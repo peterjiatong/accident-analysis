{
 "cells": [
  {
   "cell_type": "markdown",
   "metadata": {},
   "source": [
    "## Combining the NHTSA and DMV datasets"
   ]
  },
  {
   "cell_type": "code",
   "execution_count": 508,
   "metadata": {},
   "outputs": [],
   "source": [
    "import pandas as pd\n",
    "import numpy as np\n"
   ]
  },
  {
   "cell_type": "code",
   "execution_count": 509,
   "metadata": {},
   "outputs": [],
   "source": [
    "\n",
    "nhtsa = pd.read_csv('../california_data/NHTSA _SGO_incident_reports/SGO-2021-01_Incident_Reports_ADS.csv')\n",
    "dmv = pd.read_csv('../CA_data.csv')\n",
    "nhtsa2 = pd.read_csv('../california_data/NHTSA _SGO_incident_reports/SGO-2021-01_Incident_Reports_ADAS_March2024.csv')"
   ]
  },
  {
   "cell_type": "code",
   "execution_count": 510,
   "metadata": {},
   "outputs": [],
   "source": [
    "nhsta = pd.concat([nhtsa, nhtsa2])"
   ]
  },
  {
   "cell_type": "code",
   "execution_count": 511,
   "metadata": {},
   "outputs": [],
   "source": [
    "def rear_damage(row):\n",
    "    if row['LR1'] == 'Yes' or row['RB'] == 'Yes' or row['RR1'] == 'Yes':\n",
    "        return 1\n",
    "    return 0\n",
    "\n",
    "def front_damage(row):\n",
    "    if row['LFC3'] == 'Yes' or row['RFC3'] == 'Yes' or row['FB'] == 'Yes':\n",
    "        return 1\n",
    "    return 0\n",
    "\n",
    "def right_side_damage(row):\n",
    "    right_side = ['RR3', 'RRP2', 'RRP4', 'FPS2', 'FPS4','RFC2']\n",
    "    for side in right_side:\n",
    "        if row[side] == 'Yes':\n",
    "            return 1\n",
    "    return 0\n",
    "\n",
    "def left_side_damage(row):\n",
    "    left_side = ['LR2', 'LRP1', 'LRP3', 'FDS1', 'FDS3', 'LFC1']\n",
    "    for side in left_side:\n",
    "        if row[side] == 'Yes':\n",
    "            return 1\n",
    "    return 0\n",
    "\n",
    "def other_damage(row):\n",
    "    other = ['LR3', 'LRP2', 'LRP4', 'FDS2', 'FDS4', 'LFC2', \n",
    "             'RR2','RRP1', 'RRP3', 'FPS1', 'FPS3', 'RFC1']\n",
    "    for side in other:\n",
    "        if row[side] == 'Yes':\n",
    "            return 1\n",
    "    return 0"
   ]
  },
  {
   "cell_type": "code",
   "execution_count": 512,
   "metadata": {},
   "outputs": [],
   "source": [
    "dmv['Rear Damage'] = dmv.apply(rear_damage, axis=1)\n",
    "dmv['Front Damage'] = dmv.apply(front_damage, axis=1)\n",
    "dmv['Right Side Damage'] = dmv.apply(right_side_damage, axis=1)\n",
    "dmv['Left Side Damage'] = dmv.apply(left_side_damage, axis=1)\n",
    "dmv['Inside Damage'] = dmv.apply(other_damage, axis=1)"
   ]
  },
  {
   "cell_type": "code",
   "execution_count": 513,
   "metadata": {},
   "outputs": [
    {
     "name": "stderr",
     "output_type": "stream",
     "text": [
      "/var/folders/bd/126yvkv50d1cjxc0144dqz4c0000gn/T/ipykernel_95115/3455532182.py:5: UserWarning: Could not infer format, so each element will be parsed individually, falling back to `dateutil`. To ensure parsing is consistent and as-expected, please specify a format.\n",
      "  dmv['Hour'] = pd.to_datetime(dmv['Time'],errors='coerce').dt.hour\n"
     ]
    }
   ],
   "source": [
    "dmv[\"Date\"] = pd.to_datetime(dmv['Date'], format='mixed')\n",
    "dmv[\"Year\"] = dmv[\"Date\"].dt.year\n",
    "dmv['Month'] = dmv['Date'].dt.month\n",
    "\n",
    "dmv['Hour'] = pd.to_datetime(dmv['Time'],errors='coerce').dt.hour"
   ]
  },
  {
   "cell_type": "markdown",
   "metadata": {},
   "source": [
    "#### DMV Changes summaryh\n",
    "1. Unchanged: \n",
    "2. Renamed: Make, Model, Model Year, City, State, Movement Preceding Collision, Lighting, Weather, Roadway Surface\n",
    "3. Simplified(combined to one or less columns): All the damages\n",
    "4. Generated from an existing col: Year, Hour, month"
   ]
  },
  {
   "cell_type": "code",
   "execution_count": 514,
   "metadata": {},
   "outputs": [],
   "source": [
    "rename_dict_dmv = {\n",
    "    'Vehicle 1 Make': 'Make',\n",
    "    'Vehicle 1 Model': 'Model',\n",
    "    'Vehicle 1 Year of Manufacturing':'Model Year',\n",
    "    'City of Accident': 'City',\n",
    "    'State of Accident': 'State',\n",
    "    'Movement Preceding Collision Vehicle 1': 'Movement Preceding Collision',\n",
    "    'Lighting Vehicle 1': 'Lighting',\n",
    "    'Weather Vehicle 1': 'Weather',\n",
    "    'Roadway Surface Vehicle 1': 'Roadway Surface',\n",
    "    \n",
    "}"
   ]
  },
  {
   "cell_type": "code",
   "execution_count": 515,
   "metadata": {},
   "outputs": [
    {
     "data": {
      "text/plain": [
       "['Weather - Clear',\n",
       " 'Weather - Snow',\n",
       " 'Weather - Cloudy',\n",
       " 'Weather - Fog/Smoke',\n",
       " 'Weather - Rain',\n",
       " 'Weather - Severe Wind']"
      ]
     },
     "execution_count": 515,
     "metadata": {},
     "output_type": "execute_result"
    }
   ],
   "source": [
    "weather_columns = [col for col in nhsta.columns if col.startswith('Weather')]\n",
    "# remove the last 3\n",
    "\n",
    "weather_columns = weather_columns[:-3]\n",
    "weather_columns\n"
   ]
  },
  {
   "cell_type": "markdown",
   "metadata": {},
   "source": [
    "#### NHTSA area"
   ]
  },
  {
   "cell_type": "code",
   "execution_count": 516,
   "metadata": {},
   "outputs": [
    {
     "data": {
      "text/plain": [
       "Weather\n",
       "Weather - Clear     590\n",
       "Weather - Cloudy     71\n",
       "Weather - Rain       26\n",
       "Name: count, dtype: int64"
      ]
     },
     "execution_count": 516,
     "metadata": {},
     "output_type": "execute_result"
    }
   ],
   "source": [
    "# create a new column weather\n",
    "def weather_condition(row):\n",
    "    \n",
    "    for col in reversed(weather_columns):\n",
    "        if row[col] == 'Y':\n",
    "            return col\n",
    "    return np.nan\n",
    "\n",
    "\n",
    "\n",
    "nhtsa['Weather'] = nhtsa.apply(weather_condition, axis=1)\n",
    "nhtsa['Weather'].value_counts()\n",
    "# 16 unknown"
   ]
  },
  {
   "cell_type": "code",
   "execution_count": 517,
   "metadata": {},
   "outputs": [
    {
     "name": "stdout",
     "output_type": "stream",
     "text": [
      "['SV Contact Area - Rear Left', 'SV Contact Area - Left', 'SV Contact Area - Front Left', 'SV Contact Area - Rear', 'SV Contact Area - Top', 'SV Contact Area - Front', 'SV Contact Area - Rear Right', 'SV Contact Area - Right', 'SV Contact Area - Front Right', 'SV Contact Area - Bottom', 'SV Contact Area - Unknown']\n"
     ]
    }
   ],
   "source": [
    "# print all columns that start with CP Contact Area\n",
    "contact_columns = [col for col in nhsta.columns if col.startswith('SV Contact Area')]\n",
    "print(contact_columns)"
   ]
  },
  {
   "cell_type": "code",
   "execution_count": 518,
   "metadata": {},
   "outputs": [],
   "source": [
    "# nhtsa data\n",
    "def Front_Damage(row):\n",
    "    \n",
    "    for col in contact_columns:\n",
    "        if 'Front' in col and row[col] == 'Y':\n",
    "            return 1\n",
    "    return 0\n",
    "\n",
    "def Rear_Damage(row):\n",
    "    for col in contact_columns:\n",
    "        if 'Rear' in col and row[col] == 'Y':\n",
    "            return 1\n",
    "    return 0\n",
    "\n",
    "def Right_Side_Damage(row):\n",
    "    for col in contact_columns:\n",
    "        if 'Right' in col and row[col] == 'Y':\n",
    "            return 1\n",
    "    return 0\n",
    "\n",
    "def Left_Side_Damage(row):\n",
    "    for col in contact_columns:\n",
    "        if 'Left' in col and row[col] == 'Y':\n",
    "            return 1\n",
    "    return 0\n",
    "def Inside_Damage(row):\n",
    "    for col in contact_columns:\n",
    "        if ('Top' in col or 'Bottom' in col) and row[col] == 'Y':\n",
    "            return 1\n",
    "    return 0"
   ]
  },
  {
   "cell_type": "code",
   "execution_count": 519,
   "metadata": {},
   "outputs": [
    {
     "name": "stdout",
     "output_type": "stream",
     "text": [
      "Rear Damage\n",
      "1    378\n",
      "0    325\n",
      "Name: count, dtype: int64\n",
      "Front Damage\n",
      "0    469\n",
      "1    234\n",
      "Name: count, dtype: int64\n",
      "Right Side Damage\n",
      "0    403\n",
      "1    300\n",
      "Name: count, dtype: int64\n",
      "Left Side Damage\n",
      "0    367\n",
      "1    336\n",
      "Name: count, dtype: int64\n",
      "Inside Damage\n",
      "0    666\n",
      "1     37\n",
      "Name: count, dtype: int64\n"
     ]
    }
   ],
   "source": [
    "nhtsa['Rear Damage'] = nhtsa.apply(Rear_Damage, axis=1)\n",
    "nhtsa['Front Damage'] = nhtsa.apply(Front_Damage, axis=1)\n",
    "nhtsa['Right Side Damage'] = nhtsa.apply(Right_Side_Damage, axis=1)\n",
    "nhtsa['Left Side Damage'] = nhtsa.apply(Left_Side_Damage, axis=1)\n",
    "nhtsa['Inside Damage'] = nhtsa.apply(Inside_Damage, axis=1)\n",
    "\n",
    "\n",
    "col = ['Rear Damage', 'Front Damage', 'Right Side Damage', 'Left Side Damage', 'Inside Damage']\n",
    "for c in col:\n",
    "    print(nhtsa[c].value_counts())"
   ]
  },
  {
   "cell_type": "code",
   "execution_count": 520,
   "metadata": {},
   "outputs": [],
   "source": [
    "def get_hour_nhtsa(row):\n",
    "    try:\n",
    "        return int(row['Incident Time (24:00)'].split(':')[0])\n",
    "    except:\n",
    "        return np.nan\n",
    "nhtsa['Hour'] = nhtsa.apply(get_hour_nhtsa, axis=1)"
   ]
  },
  {
   "cell_type": "code",
   "execution_count": 521,
   "metadata": {},
   "outputs": [
    {
     "name": "stdout",
     "output_type": "stream",
     "text": [
      "object\n"
     ]
    }
   ],
   "source": [
    "print(nhtsa['Incident Date'].dtype)"
   ]
  },
  {
   "cell_type": "code",
   "execution_count": 522,
   "metadata": {},
   "outputs": [
    {
     "name": "stdout",
     "output_type": "stream",
     "text": [
      "Year\n",
      "2023    307\n",
      "2022    270\n",
      "2021    126\n",
      "Name: count, dtype: int64\n",
      "Month\n",
      "8     140\n",
      "7      94\n",
      "3      61\n",
      "6      60\n",
      "5      58\n",
      "4      57\n",
      "9      44\n",
      "12     43\n",
      "11     42\n",
      "2      39\n",
      "10     37\n",
      "1      28\n",
      "Name: count, dtype: int64\n"
     ]
    }
   ],
   "source": [
    "months_conversion = {\n",
    "        \"JAN\": 1,\n",
    "        \"FEB\": 2,\n",
    "        \"MAR\": 3,\n",
    "        \"APR\": 4,\n",
    "        \"MAY\": 5,\n",
    "        \"JUN\": 6,\n",
    "        \"JUL\": 7,\n",
    "        \"AUG\": 8,\n",
    "        \"SEP\": 9,\n",
    "        \"OCT\": 10,\n",
    "        \"NOV\": 11,\n",
    "        \"DEC\": 12\n",
    "    }\n",
    "\n",
    "\n",
    "def get_year_nhtsa(row):\n",
    "    try:\n",
    "        return int(row['Incident Date'].split('-')[1])\n",
    "    except:\n",
    "        return np.nan\n",
    "\n",
    "def get_month_nhtsa(row):\n",
    "    try:\n",
    "        return months_conversion[row['Incident Date'].split('-')[0].upper()]\n",
    "    except:\n",
    "        return np.nan\n",
    "    \n",
    "nhtsa['Year'] = nhtsa.apply(get_year_nhtsa, axis=1)\n",
    "nhtsa['Month'] = nhtsa.apply(get_month_nhtsa, axis=1)\n",
    "\n",
    "print(nhtsa['Year'].value_counts())\n",
    "\n",
    "print(nhtsa['Month'].value_counts())\n",
    "\n"
   ]
  },
  {
   "cell_type": "markdown",
   "metadata": {},
   "source": [
    "#### NHTSA summary\n",
    "1. Unchanged: Lighting, Make, Model, City, State, Roadway Surface\n",
    "2. Named changed: Movement Preceding Collision\n",
    "3. Simplified(combined to one or less columns): All the damages, Weather\n",
    "4. column value edited: hour, \n",
    "5. generated from a col: Month, Year"
   ]
  },
  {
   "cell_type": "code",
   "execution_count": 523,
   "metadata": {},
   "outputs": [],
   "source": [
    "selected_columns = [\"Year\", \"Month\", \"Make\", \"Model\"\n",
    "                    ,'City', 'State', 'Hour',\n",
    "                    'Rear Damage', 'Front Damage', \n",
    "                    'Right Side Damage', 'Left Side Damage', \n",
    "                    'Inside Damage', 'Lighting','Weather', 'Roadway Surface',\n",
    "                    'Movement Preceding Collision']"
   ]
  },
  {
   "cell_type": "code",
   "execution_count": 524,
   "metadata": {},
   "outputs": [],
   "source": [
    "remane_nhtsa = {\n",
    "    'SV Pre-Crash Movement': 'Movement Preceding Collision',\n",
    "}\n",
    "\n"
   ]
  },
  {
   "cell_type": "code",
   "execution_count": 525,
   "metadata": {},
   "outputs": [
    {
     "name": "stdout",
     "output_type": "stream",
     "text": [
      "0      2023\n",
      "1      2023\n",
      "2      2023\n",
      "3      2023\n",
      "4      2023\n",
      "       ... \n",
      "698    2021\n",
      "699    2021\n",
      "700    2021\n",
      "701    2021\n",
      "702    2021\n",
      "Name: Year, Length: 703, dtype: int64\n"
     ]
    }
   ],
   "source": [
    "print(nhtsa['Year'])"
   ]
  },
  {
   "cell_type": "code",
   "execution_count": 526,
   "metadata": {},
   "outputs": [],
   "source": [
    "dmv = dmv.rename(columns=rename_dict_dmv)\n",
    "nhtsa = nhtsa.rename(columns=remane_nhtsa)"
   ]
  },
  {
   "cell_type": "code",
   "execution_count": 527,
   "metadata": {},
   "outputs": [
    {
     "data": {
      "text/plain": [
       "(703, 146)"
      ]
     },
     "execution_count": 527,
     "metadata": {},
     "output_type": "execute_result"
    }
   ],
   "source": [
    "nhtsa.shape"
   ]
  },
  {
   "cell_type": "code",
   "execution_count": 528,
   "metadata": {},
   "outputs": [
    {
     "name": "stdout",
     "output_type": "stream",
     "text": [
      "Year\n",
      "NHTSA\n",
      "0    2023\n",
      "1    2023\n",
      "2    2023\n",
      "3    2023\n",
      "4    2023\n",
      "Name: Year, dtype: int32\n",
      "DMV\n",
      "0    2019\n",
      "1    2023\n",
      "2    2023\n",
      "3    2023\n",
      "4    2023\n",
      "Name: Year, dtype: int32\n",
      "Month\n",
      "NHTSA\n",
      "0    8\n",
      "1    8\n",
      "2    8\n",
      "3    8\n",
      "4    8\n",
      "Name: Month, dtype: int32\n",
      "DMV\n",
      "0    9\n",
      "1    6\n",
      "2    6\n",
      "3    2\n",
      "4    5\n",
      "Name: Month, dtype: int32\n",
      "Make\n",
      "NHTSA\n",
      "0    Jaguar\n",
      "1    Jaguar\n",
      "2    Jaguar\n",
      "3    Jaguar\n",
      "4    Jaguar\n",
      "Name: Make, dtype: object\n",
      "DMV\n",
      "0      Toyota\n",
      "1    Chrysler\n",
      "2     Lincoln\n",
      "3       Lexus\n",
      "4       Lexus\n",
      "Name: Make, dtype: object\n",
      "Model\n",
      "NHTSA\n",
      "0    I-Pace\n",
      "1    I-Pace\n",
      "2    I-Pace\n",
      "3    I-Pace\n",
      "4    I-Pace\n",
      "Name: Model, dtype: object\n",
      "DMV\n",
      "0         Prius\n",
      "1      Pacifica\n",
      "2    MKZ Hybrid\n",
      "3       RX 450h\n",
      "4       RX 450h\n",
      "Name: Model, dtype: object\n",
      "City\n",
      "NHTSA\n",
      "0     Santa Monica\n",
      "1    San Francisco\n",
      "2    San Francisco\n",
      "3    San Francisco\n",
      "4    San Francisco\n",
      "Name: City, dtype: object\n",
      "DMV\n",
      "0    SB, 101 US Freeway, Old Middlefield Rd x Shorl...\n",
      "1                                        San Francisco\n",
      "2                                        San Francisco\n",
      "3                                            Sunnyvale\n",
      "4                                          Santa Clara\n",
      "Name: City, dtype: object\n",
      "State\n",
      "NHTSA\n",
      "0    CA \n",
      "1    CA \n",
      "2    CA \n",
      "3    CA \n",
      "4    CA \n",
      "Name: State, dtype: object\n",
      "DMV\n",
      "0    CA\n",
      "1    CA\n",
      "2    CA\n",
      "3    CA\n",
      "4    CA\n",
      "Name: State, dtype: object\n",
      "Hour\n",
      "NHTSA\n",
      "0    16.0\n",
      "1    21.0\n",
      "2    17.0\n",
      "3    16.0\n",
      "4    13.0\n",
      "Name: Hour, dtype: float64\n",
      "DMV\n",
      "0    10.0\n",
      "1    15.0\n",
      "2    12.0\n",
      "3    10.0\n",
      "4    16.0\n",
      "Name: Hour, dtype: float64\n",
      "Rear Damage\n",
      "NHTSA\n",
      "0    1\n",
      "1    0\n",
      "2    0\n",
      "3    1\n",
      "4    1\n",
      "Name: Rear Damage, dtype: int64\n",
      "DMV\n",
      "0    1\n",
      "1    0\n",
      "2    0\n",
      "3    0\n",
      "4    1\n",
      "Name: Rear Damage, dtype: int64\n",
      "Front Damage\n",
      "NHTSA\n",
      "0    0\n",
      "1    1\n",
      "2    0\n",
      "3    0\n",
      "4    0\n",
      "Name: Front Damage, dtype: int64\n",
      "DMV\n",
      "0    0\n",
      "1    0\n",
      "2    0\n",
      "3    0\n",
      "4    0\n",
      "Name: Front Damage, dtype: int64\n",
      "Right Side Damage\n",
      "NHTSA\n",
      "0    0\n",
      "1    0\n",
      "2    0\n",
      "3    0\n",
      "4    0\n",
      "Name: Right Side Damage, dtype: int64\n",
      "DMV\n",
      "0    0\n",
      "1    0\n",
      "2    1\n",
      "3    1\n",
      "4    0\n",
      "Name: Right Side Damage, dtype: int64\n",
      "Left Side Damage\n",
      "NHTSA\n",
      "0    1\n",
      "1    1\n",
      "2    1\n",
      "3    0\n",
      "4    1\n",
      "Name: Left Side Damage, dtype: int64\n",
      "DMV\n",
      "0    0\n",
      "1    0\n",
      "2    0\n",
      "3    0\n",
      "4    0\n",
      "Name: Left Side Damage, dtype: int64\n",
      "Inside Damage\n",
      "NHTSA\n",
      "0    0\n",
      "1    0\n",
      "2    0\n",
      "3    0\n",
      "4    0\n",
      "Name: Inside Damage, dtype: int64\n",
      "DMV\n",
      "0    0\n",
      "1    0\n",
      "2    0\n",
      "3    0\n",
      "4    0\n",
      "Name: Inside Damage, dtype: int64\n",
      "Lighting\n",
      "NHTSA\n",
      "0    Daylight\n",
      "1    Daylight\n",
      "2    Daylight\n",
      "3    Daylight\n",
      "4    Daylight\n",
      "Name: Lighting, dtype: object\n",
      "DMV\n",
      "0    Daylight\n",
      "1    Daylight\n",
      "2    Daylight\n",
      "3    Daylight\n",
      "4    Daylight\n",
      "Name: Lighting, dtype: object\n",
      "Weather\n",
      "NHTSA\n",
      "0    Weather - Clear\n",
      "1    Weather - Clear\n",
      "2    Weather - Clear\n",
      "3    Weather - Clear\n",
      "4    Weather - Clear\n",
      "Name: Weather, dtype: object\n",
      "DMV\n",
      "0    Clear\n",
      "1    Clear\n",
      "2    Clear\n",
      "3    Clear\n",
      "4    Clear\n",
      "Name: Weather, dtype: object\n",
      "Roadway Surface\n",
      "NHTSA\n",
      "0    Dry\n",
      "1    Dry\n",
      "2    Dry\n",
      "3    Dry\n",
      "4    Dry\n",
      "Name: Roadway Surface, dtype: object\n",
      "DMV\n",
      "0    Wet\n",
      "1    Dry\n",
      "2    Dry\n",
      "3    Dry\n",
      "4    Dry\n",
      "Name: Roadway Surface, dtype: object\n",
      "Movement Preceding Collision\n",
      "NHTSA\n",
      "0    Other, see Narrative\n",
      "1                 Stopped\n",
      "2                 Stopped\n",
      "3                 Stopped\n",
      "4     Proceeding Straight\n",
      "Name: Movement Preceding Collision, dtype: object\n",
      "DMV\n",
      "0                    Stopped\n",
      "1        Proceeding Straight\n",
      "2    Xing into opposing lane\n",
      "3              Making U turn\n",
      "4                    Stopped\n",
      "Name: Movement Preceding Collision, dtype: object\n"
     ]
    }
   ],
   "source": [
    "\n",
    "for col in selected_columns:\n",
    "    \n",
    "    # drop nan values\n",
    "    nhtsa = nhtsa.dropna(subset=[col])\n",
    "    print(col)\n",
    "    if nhtsa[col].dtype != dmv[col].dtype:\n",
    "        nhtsa[col] = nhtsa[col].astype(dmv[col].dtype)\n",
    "\n",
    "    print(\"NHTSA\")\n",
    "    print(nhtsa[col][:5])\n",
    "    print(\"DMV\")\n",
    "    print(dmv[col][:5])"
   ]
  },
  {
   "cell_type": "code",
   "execution_count": null,
   "metadata": {},
   "outputs": [],
   "source": [
    "\n",
    "\n",
    "\n"
   ]
  },
  {
   "cell_type": "code",
   "execution_count": 529,
   "metadata": {},
   "outputs": [],
   "source": [
    "nhtsa_selected = nhtsa[selected_columns]\n",
    "dmv_selected = dmv[selected_columns]"
   ]
  },
  {
   "cell_type": "code",
   "execution_count": 530,
   "metadata": {},
   "outputs": [],
   "source": [
    "combined_dataset = pd.concat([nhtsa_selected, dmv_selected])\n"
   ]
  },
  {
   "cell_type": "code",
   "execution_count": 531,
   "metadata": {},
   "outputs": [],
   "source": [
    "# save csv\n",
    "combined_dataset.to_csv('combined_dataset.csv', index=False)"
   ]
  }
 ],
 "metadata": {
  "kernelspec": {
   "display_name": "base",
   "language": "python",
   "name": "python3"
  },
  "language_info": {
   "codemirror_mode": {
    "name": "ipython",
    "version": 3
   },
   "file_extension": ".py",
   "mimetype": "text/x-python",
   "name": "python",
   "nbconvert_exporter": "python",
   "pygments_lexer": "ipython3",
   "version": "3.11.5"
  }
 },
 "nbformat": 4,
 "nbformat_minor": 2
}
