{
 "cells": [
  {
   "cell_type": "markdown",
   "metadata": {},
   "source": [
    "## Combining the NHTSA and DMV datasets"
   ]
  },
  {
   "cell_type": "code",
   "execution_count": 10,
   "metadata": {},
   "outputs": [],
   "source": [
    "import pandas as pd\n",
    "import numpy as np\n"
   ]
  },
  {
   "cell_type": "code",
   "execution_count": 11,
   "metadata": {},
   "outputs": [],
   "source": [
    "\n",
    "nhtsa = pd.read_csv('../california_data/NHTSA _SGO_incident_reports/SGO-2021-01_Incident_Reports_ADS.csv')\n",
    "dmv = pd.read_csv('../CA_data.csv')\n",
    "nhtsa2 = pd.read_csv('../california_data/NHTSA _SGO_incident_reports/SGO-2021-01_Incident_Reports_ADAS_March2024.csv')"
   ]
  },
  {
   "cell_type": "code",
   "execution_count": 12,
   "metadata": {},
   "outputs": [],
   "source": [
    "nhsta = pd.concat([nhtsa, nhtsa2])"
   ]
  },
  {
   "cell_type": "code",
   "execution_count": 13,
   "metadata": {},
   "outputs": [],
   "source": [
    "def rear_damage(row):\n",
    "    if row['LR1'] == 'Yes' or row['RB'] == 'Yes' or row['RR1'] == 'Yes':\n",
    "        return 1\n",
    "    return 0\n",
    "\n",
    "def front_damage(row):\n",
    "    if row['LFC3'] == 'Yes' or row['RFC3'] == 'Yes' or row['FB'] == 'Yes':\n",
    "        return 1\n",
    "    return 0\n",
    "\n",
    "def right_side_damage(row):\n",
    "    right_side = ['RR3', 'RRP2', 'RRP4', 'FPS2', 'FPS4','RFC2']\n",
    "    for side in right_side:\n",
    "        if row[side] == 'Yes':\n",
    "            return 1\n",
    "    return 0\n",
    "\n",
    "def left_side_damage(row):\n",
    "    left_side = ['LR2', 'LRP1', 'LRP3', 'FDS1', 'FDS3', 'LFC1']\n",
    "    for side in left_side:\n",
    "        if row[side] == 'Yes':\n",
    "            return 1\n",
    "    return 0\n",
    "\n",
    "def other_damage(row):\n",
    "    other = ['LR3', 'LRP2', 'LRP4', 'FDS2', 'FDS4', 'LFC2', \n",
    "             'RR2','RRP1', 'RRP3', 'FPS1', 'FPS3', 'RFC1']\n",
    "    for side in other:\n",
    "        if row[side] == 'Yes':\n",
    "            return 1\n",
    "    return 0"
   ]
  },
  {
   "cell_type": "code",
   "execution_count": 14,
   "metadata": {},
   "outputs": [],
   "source": [
    "dmv['Rear Damage'] = dmv.apply(rear_damage, axis=1)\n",
    "dmv['Front Damage'] = dmv.apply(front_damage, axis=1)\n",
    "dmv['Right Side Damage'] = dmv.apply(right_side_damage, axis=1)\n",
    "dmv['Left Side Damage'] = dmv.apply(left_side_damage, axis=1)\n",
    "dmv['Inside Damage'] = dmv.apply(other_damage, axis=1)"
   ]
  },
  {
   "cell_type": "code",
   "execution_count": 15,
   "metadata": {},
   "outputs": [],
   "source": [
    "dmv[\"Date\"] = pd.to_datetime(dmv['Date'], format='mixed')\n",
    "dmv[\"Year\"] = dmv[\"Date\"].dt.year\n",
    "dmv['Month'] = dmv['Date'].dt.month"
   ]
  },
  {
   "cell_type": "code",
   "execution_count": 19,
   "metadata": {},
   "outputs": [
    {
     "data": {
      "text/plain": [
       "['Weather - Clear',\n",
       " 'Weather - Snow',\n",
       " 'Weather - Cloudy',\n",
       " 'Weather - Fog/Smoke',\n",
       " 'Weather - Rain',\n",
       " 'Weather - Severe Wind']"
      ]
     },
     "execution_count": 19,
     "metadata": {},
     "output_type": "execute_result"
    }
   ],
   "source": [
    "weather_columns = [col for col in nhsta.columns if col.startswith('Weather')]\n",
    "# remove the last 3\n",
    "\n",
    "weather_columns = weather_columns[:-3]\n",
    "weather_columns\n"
   ]
  },
  {
   "cell_type": "markdown",
   "metadata": {},
   "source": [
    "#### NHTSA area"
   ]
  },
  {
   "cell_type": "code",
   "execution_count": 31,
   "metadata": {},
   "outputs": [
    {
     "name": "stdout",
     "output_type": "stream",
     "text": [
      "Weather\n",
      "Weather - Clear     590\n",
      "Weather - Cloudy     71\n",
      "Weather - Rain       26\n",
      "Name: count, dtype: int64\n"
     ]
    }
   ],
   "source": [
    "# create a new column weather\n",
    "def weather_condition(row):\n",
    "    \n",
    "    for col in reversed(weather_columns):\n",
    "        if row[col] == 'Y':\n",
    "            return col\n",
    "    return np.nan\n",
    "\n",
    "\n",
    "\n",
    "nhtsa['Weather'] = nhtsa.apply(weather_condition, axis=1)\n",
    "nhtsa['Weather'].value_counts()\n",
    "# 16 unknown"
   ]
  },
  {
   "cell_type": "code",
   "execution_count": null,
   "metadata": {},
   "outputs": [],
   "source": []
  },
  {
   "cell_type": "code",
   "execution_count": 16,
   "metadata": {},
   "outputs": [],
   "source": [
    "selected_columns = [\"Year\", \"Month\", \"Make\", \"Model\"\n",
    "                    ,'Car Mode', 'City', 'State', \n",
    "                    'Rear Damage', 'Front Damage', \n",
    "                    'Right Side Damage', 'Left Side Damage', \n",
    "                    'Inside Damage', 'Lighting','Weather', 'Road Surface']"
   ]
  },
  {
   "cell_type": "code",
   "execution_count": null,
   "metadata": {},
   "outputs": [],
   "source": [
    "# d2.rename(columns={'a2': 'a1', 'c2': 'c1'}, inplace=True)\n",
    "\n",
    "rename_dict_dmv = {\n",
    "    'Vehicle 1 Make': 'Make',\n",
    "    'Vehicle 1 Model': 'Model',\n",
    "    'Vehicle 1 Year of Manufacturing':'Model Year',\n",
    "    'City of Accident': 'City',\n",
    "    'State of Accident': 'State',\n",
    "    'Movement Preceding Collision Vehicle 1': 'Movement Preceding Collision',\n",
    "    'Lighting Vehicle 1': 'Lighting',\n",
    "    'Weather Vehicle 1': 'Weather',\n",
    "    'Roadway Surface Vehicle 1': 'Roadway Surface',\n",
    "    \n",
    "}\n",
    "\n",
    "remane_dict_nhtsa = {\n",
    "    \n",
    "}\n",
    "\n"
   ]
  },
  {
   "cell_type": "code",
   "execution_count": null,
   "metadata": {},
   "outputs": [],
   "source": [
    "nhtsa_selected = nhtsa[selected_columns]\n",
    "dmv_selected = dmv[selected_columns]"
   ]
  },
  {
   "cell_type": "code",
   "execution_count": null,
   "metadata": {},
   "outputs": [],
   "source": [
    "combined_dataset = pd.concat([nhtsa_selected, dmv_selected])\n"
   ]
  },
  {
   "cell_type": "code",
   "execution_count": null,
   "metadata": {},
   "outputs": [],
   "source": [
    "# save csv\n",
    "# combined_dataset.to_csv('combined_dataset.csv', index=False)"
   ]
  }
 ],
 "metadata": {
  "kernelspec": {
   "display_name": "base",
   "language": "python",
   "name": "python3"
  },
  "language_info": {
   "codemirror_mode": {
    "name": "ipython",
    "version": 3
   },
   "file_extension": ".py",
   "mimetype": "text/x-python",
   "name": "python",
   "nbconvert_exporter": "python",
   "pygments_lexer": "ipython3",
   "version": "3.11.5"
  }
 },
 "nbformat": 4,
 "nbformat_minor": 2
}
