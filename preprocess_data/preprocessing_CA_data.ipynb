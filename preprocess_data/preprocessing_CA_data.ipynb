{
 "cells": [
  {
   "cell_type": "code",
   "execution_count": 735,
   "metadata": {},
   "outputs": [],
   "source": [
    "import pandas as pd\n",
    "import numpy as np"
   ]
  },
  {
   "cell_type": "code",
   "execution_count": 736,
   "metadata": {},
   "outputs": [],
   "source": [
    "CA_data = pd.read_csv('../CA_data.csv')"
   ]
  },
  {
   "cell_type": "markdown",
   "metadata": {},
   "source": [
    "### Dropping useless column\n"
   ]
  },
  {
   "cell_type": "code",
   "execution_count": 737,
   "metadata": {},
   "outputs": [],
   "source": [
    "# drop these columns\n",
    "columns_dropped = ['Vehicle 1 Business Name', 'Lat1', 'Lat2', 'Lat3', 'Lng1', 'Lng2', 'Lng3', \n",
    "                   'Property Damage', 'Property Owner\\'s Details', 'ZIPCODE of Accident', \n",
    "                   'State of Accident', 'County of Accident', 'Location of Accident', 'File ID'\n",
    "                   ]\n",
    "CA_data.drop(columns=columns_dropped, inplace=True)\n"
   ]
  },
  {
   "cell_type": "code",
   "execution_count": 738,
   "metadata": {},
   "outputs": [
    {
     "name": "stdout",
     "output_type": "stream",
     "text": [
      "67\n"
     ]
    }
   ],
   "source": [
    "print(len(CA_data.columns))"
   ]
  },
  {
   "cell_type": "markdown",
   "metadata": {},
   "source": [
    "#### Column Weather Vehicle 1\n",
    "We are grouping Fog/visiblity with Dark because they are visual impariements\\\n",
    "We are grouping slippery, wind with raining because when it rains, it usally reults in slipperiness and sometimes wind\\"
   ]
  },
  {
   "cell_type": "code",
   "execution_count": 739,
   "metadata": {},
   "outputs": [
    {
     "name": "stdout",
     "output_type": "stream",
     "text": [
      "Clear                  265\n",
      "Cloudy                  29\n",
      "Raining                 14\n",
      "Fog/Visibility/Dark      4\n",
      "Name: Weather Vehicle 1, dtype: int64\n"
     ]
    }
   ],
   "source": [
    "CA_data['Weather Vehicle 1'].replace(['Fog/Visibility', 'Dark'], 'Fog/Visibility/Dark', inplace=True)\n",
    "CA_data['Weather Vehicle 1'].replace(['Slippery', 'Wind'], 'Raining', inplace=True)\n",
    "CA_data.drop(CA_data[CA_data['Weather Vehicle 1'] == 'Not Available'].index, inplace=True)\n",
    "\n",
    "print(CA_data['Weather Vehicle 1'].value_counts())"
   ]
  },
  {
   "cell_type": "code",
   "execution_count": 740,
   "metadata": {},
   "outputs": [],
   "source": [
    "# one hot encode\n",
    "CA_data[['Clear', 'Cloudy','Fog/Visibility/Dark', 'Raining']] = pd.get_dummies(CA_data['Weather Vehicle 1'])\n",
    "CA_data.drop(columns=['Weather Vehicle 1'], inplace=True)\n"
   ]
  },
  {
   "cell_type": "markdown",
   "metadata": {},
   "source": [
    "#### Column: Vehicle 1 lighting\n",
    "Grouping no unusla condition and daylight b/c they basically the same\\\n",
    "Grouping Dusk/dawn with dark with street lights b/c they are relatively similar conditions\n",
    "\n",
    "also grouped dark with non functional street lights b/c too little instances of it\n"
   ]
  },
  {
   "cell_type": "code",
   "execution_count": 741,
   "metadata": {},
   "outputs": [
    {
     "name": "stdout",
     "output_type": "stream",
     "text": [
      "Daylight    229\n",
      "Dark         83\n",
      "Name: Lighting Vehicle 1, dtype: int64\n"
     ]
    }
   ],
   "source": [
    "CA_data['Lighting Vehicle 1'].replace(['No unusual conditions'], 'Daylight', inplace=True)\n",
    "CA_data['Lighting Vehicle 1'].replace(['Dusk/Dawn', 'Dark w Street-lights', 'Dark w Non-functioning Street-lights'], 'Dark', inplace=True)\n",
    "\n",
    "\n",
    "print(CA_data['Lighting Vehicle 1'].value_counts())"
   ]
  },
  {
   "cell_type": "code",
   "execution_count": 742,
   "metadata": {},
   "outputs": [],
   "source": [
    "CA_data = pd.get_dummies(CA_data, columns = ['Lighting Vehicle 1'])\n"
   ]
  },
  {
   "cell_type": "markdown",
   "metadata": {},
   "source": [
    "#### Column: Surface/Road condition \n",
    "Wet roads = slippery roads\\\n",
    "Dropped other and proceeding straight b/c they dont provide much value"
   ]
  },
  {
   "cell_type": "code",
   "execution_count": 743,
   "metadata": {},
   "outputs": [
    {
     "name": "stdout",
     "output_type": "stream",
     "text": [
      "Dry    286\n",
      "Wet     22\n",
      "Name: Roadway Surface Vehicle 1, dtype: int64\n"
     ]
    }
   ],
   "source": [
    "\n",
    "CA_data['Roadway Surface Vehicle 1'].replace(['Slippery'], 'Wet', inplace=True)\n",
    "CA_data.drop(CA_data[(CA_data['Roadway Surface Vehicle 1'] == 'Other') | \n",
    "                     (CA_data['Roadway Surface Vehicle 1'] == 'Proceeding Straight') |\n",
    "                      (CA_data['Roadway Surface Vehicle 1'] == 'Not Available') ].index, inplace=True)\n",
    "\n",
    "\n",
    "print(CA_data['Roadway Surface Vehicle 1'].value_counts())"
   ]
  },
  {
   "cell_type": "code",
   "execution_count": 744,
   "metadata": {},
   "outputs": [],
   "source": [
    "CA_data = pd.get_dummies(CA_data, columns = ['Roadway Surface Vehicle 1'], prefix = 'Road')\n"
   ]
  },
  {
   "cell_type": "code",
   "execution_count": 745,
   "metadata": {},
   "outputs": [
    {
     "name": "stdout",
     "output_type": "stream",
     "text": [
      "0.0    294\n",
      "1.0     14\n",
      "Name: Roadway Conditions Vehicle 1, dtype: int64\n"
     ]
    }
   ],
   "source": [
    "# if roadway conditions is no unsual condition, then it is 1 otherwise 0\n",
    "CA_data['Roadway Conditions Vehicle 1'].replace(['No unusual conditions'], 0, inplace=True)\n",
    "conditions = ['Construction - Repair Zone', 'Other', 'Construction on Roadway', 'Holes,Deep Rut', 'Reduced Roadway Width', 'Loose Material on Roadway']\n",
    "CA_data['Roadway Conditions Vehicle 1'].replace(conditions, 1, inplace=True)\n",
    "print(CA_data['Roadway Conditions Vehicle 1'].value_counts())\n"
   ]
  },
  {
   "cell_type": "markdown",
   "metadata": {},
   "source": [
    "#### Column: Movement before the collision\n",
    "grouping turns, high movements, parking, and dropping others"
   ]
  },
  {
   "cell_type": "code",
   "execution_count": 746,
   "metadata": {},
   "outputs": [
    {
     "name": "stdout",
     "output_type": "stream",
     "text": [
      "Stopped                151\n",
      "Proceeding Straight     91\n",
      "Turning                 29\n",
      "Parking                 14\n",
      "Moving on Highway       10\n",
      "Backing                  8\n",
      "Name: Movement Preceding Collision Vehicle 1, dtype: int64\n"
     ]
    }
   ],
   "source": [
    "CA_data['Movement Preceding Collision Vehicle 1'].replace(['Making Right Turn', 'Making Left Turn', 'Making U turn', 'Making Right Turn, Slowing/Stopping'], 'Turning', inplace=True)\n",
    "CA_data['Movement Preceding Collision Vehicle 1'].replace(['Changing Lanes', 'Entering Traffic', 'Entrering Traffic','Xing into opposing lane', 'Passing Other Vehicle'], 'Moving on Highway', inplace=True)\n",
    "CA_data['Movement Preceding Collision Vehicle 1'].replace(['Slowing/Stopping', 'Stopped in Traffic', 'Parked', 'Stopped, Merging'], 'Stopped', inplace=True)\n",
    "CA_data['Movement Preceding Collision Vehicle 1'].replace(['Parking Manuerver', 'Parking Manuever'], 'Parking', inplace=True)\n",
    "CA_data.drop(CA_data[(CA_data['Movement Preceding Collision Vehicle 1'] == 'Other')].index, inplace=True)\n",
    "\n",
    "print(CA_data['Movement Preceding Collision Vehicle 1'].value_counts())"
   ]
  },
  {
   "cell_type": "code",
   "execution_count": 747,
   "metadata": {},
   "outputs": [],
   "source": [
    "CA_data = pd.get_dummies(CA_data, columns = ['Movement Preceding Collision Vehicle 1'])\n"
   ]
  },
  {
   "cell_type": "markdown",
   "metadata": {},
   "source": [
    "#### Column: Vehicle 1 was stopped/moving in traffic\n",
    "Fixing some off the mislabeled data\n"
   ]
  },
  {
   "cell_type": "code",
   "execution_count": 748,
   "metadata": {},
   "outputs": [
    {
     "name": "stdout",
     "output_type": "stream",
     "text": [
      "0    192\n",
      "1    165\n",
      "Name: Vehicle 1 was Stopped in Traffic, dtype: int64\n",
      "1    183\n",
      "0    174\n",
      "Name: Vehicle 1 was Moving, dtype: int64\n"
     ]
    }
   ],
   "source": [
    "\n",
    "CA_data['Vehicle 1 was Stopped in Traffic'].replace(['/Off'], 'Yes', inplace=True)\n",
    "CA_data['Vehicle 1 was Moving'].replace(['/Off'], 'No', inplace=True)\n",
    "\n",
    "CA_data['Vehicle 1 was Stopped in Traffic'].replace(['yes'], 'Yes', inplace=True)\n",
    "CA_data['Vehicle 1 was Moving'].replace(['Moving'], 'Yes', inplace=True)\n",
    "\n",
    "CA_data.replace({'Vehicle 1 was Stopped in Traffic': {'Yes': 1, 'No': 0} ,'Vehicle 1 was Moving': {'Yes': 1, 'No': 0}}, inplace=True)\n",
    "\n",
    "\n",
    "print(CA_data['Vehicle 1 was Stopped in Traffic'].value_counts())  \n",
    "print(CA_data['Vehicle 1 was Moving'].value_counts())"
   ]
  },
  {
   "cell_type": "markdown",
   "metadata": {},
   "source": [
    "#### Combining pedestrian, bicycle, and other entitys into one column called External_columns\n"
   ]
  },
  {
   "cell_type": "code",
   "execution_count": 749,
   "metadata": {},
   "outputs": [
    {
     "name": "stdout",
     "output_type": "stream",
     "text": [
      "No     356\n",
      "Yes      1\n",
      "Name: Pedestrian Involved in Accident (w V1), dtype: int64\n",
      "No     349\n",
      "Yes      8\n",
      "Name: Bicyclist involved in Accident (w V1), dtype: int64\n",
      "No                  328\n",
      "Vehicle              13\n",
      "Car                   5\n",
      "Truck                 3\n",
      "Parked                2\n",
      "electric scooter      1\n",
      "Scooter               1\n",
      "IRON ROD              1\n",
      "small dog             1\n",
      "Van                   1\n",
      "car                   1\n",
      "Name: Any other involved entity (w V1), dtype: int64\n"
     ]
    }
   ],
   "source": [
    "print(CA_data['Pedestrian Involved in Accident (w V1)'].value_counts())\n",
    "print(CA_data['Bicyclist involved in Accident (w V1)'].value_counts())\n",
    "print(CA_data['Any other involved entity (w V1)'].value_counts())"
   ]
  },
  {
   "cell_type": "code",
   "execution_count": 750,
   "metadata": {},
   "outputs": [
    {
     "name": "stdout",
     "output_type": "stream",
     "text": [
      "0    342\n",
      "1     15\n",
      "Name: External_factors, dtype: int64\n"
     ]
    }
   ],
   "source": [
    "def determine_new_col(row):\n",
    "    pedestrian = row['Pedestrian Involved in Accident (w V1)'] == 'Yes'\n",
    "    bicyclist = row['Bicyclist involved in Accident (w V1)'] == 'Yes'\n",
    "    other = row['Any other involved entity (w V1)'].lower() not in ['no','vehicle','car','truck','van']\n",
    "    if (pedestrian or bicyclist or other):\n",
    "        return 1\n",
    "    \n",
    "    return 0\n",
    "\n",
    "# Apply the function to each row\n",
    "CA_data['External_factors'] = CA_data.apply(determine_new_col, axis=1)\n",
    "\n",
    "print(CA_data['External_factors'].value_counts())"
   ]
  },
  {
   "cell_type": "code",
   "execution_count": 751,
   "metadata": {},
   "outputs": [],
   "source": [
    "# drop the other columns\n",
    "\n",
    "columns_dropped = ['Pedestrian Involved in Accident (w V1)', 'Bicyclist involved in Accident (w V1)', 'Any other involved entity (w V1)']\n",
    "CA_data.drop(columns=columns_dropped, inplace=True)"
   ]
  },
  {
   "cell_type": "markdown",
   "metadata": {},
   "source": [
    "#### Column: Vehicle 1 Manufactuer"
   ]
  },
  {
   "cell_type": "code",
   "execution_count": 752,
   "metadata": {},
   "outputs": [
    {
     "name": "stdout",
     "output_type": "stream",
     "text": [
      "cruise    147\n",
      "waymo     104\n",
      "other      37\n",
      "zoox       35\n",
      "google     24\n",
      "apple      10\n",
      "Name: Vehicle 1 Manufacturer, dtype: int64\n"
     ]
    }
   ],
   "source": [
    "# rint(CA_data['Vehicle 1 Manufacturer'].value_counts())\n",
    "\n",
    "# if waymo, cruise, google, apple, etc is in the name replace with the company name\n",
    "def determine_vehicle_manufactuer(row):\n",
    "    companies = ['waymo', 'cruise', 'google', 'apple', 'zoox']\n",
    "    for company in companies:\n",
    "        if company in row['Vehicle 1 Manufacturer'].lower():\n",
    "            return company\n",
    "    return \"other\"\n",
    "\n",
    "CA_data['Vehicle 1 Manufacturer'] = CA_data.apply(determine_vehicle_manufactuer, axis=1)\n",
    "print(CA_data['Vehicle 1 Manufacturer'].value_counts())\n",
    "\n"
   ]
  },
  {
   "cell_type": "code",
   "execution_count": 753,
   "metadata": {},
   "outputs": [],
   "source": [
    "# 0ne hot encode\n",
    "CA_data = pd.get_dummies(CA_data, columns = ['Vehicle 1 Manufacturer'], prefix = 'Manufacturer')\n",
    "\n"
   ]
  },
  {
   "cell_type": "markdown",
   "metadata": {},
   "source": [
    "#### Column: Locational damage on the car\n",
    "\n",
    "##### I am creating new columns that represent a general location where the car was damaged.\n"
   ]
  },
  {
   "cell_type": "code",
   "execution_count": 754,
   "metadata": {},
   "outputs": [],
   "source": [
    "def rear_damage(row):\n",
    "    if row['LR1'] == 'Yes' or row['RB'] == 'Yes' or row['RR1'] == 'Yes':\n",
    "        return 1\n",
    "    return 0\n",
    "\n",
    "def front_damage(row):\n",
    "    if row['LFC3'] == 'Yes' or row['RFC3'] == 'Yes' or row['FB'] == 'Yes':\n",
    "        return 1\n",
    "    return 0\n",
    "\n",
    "def right_side_damage(row):\n",
    "    right_side = ['RR3', 'RRP2', 'RRP4', 'FPS2', 'FPS4','RFC2']\n",
    "    for side in right_side:\n",
    "        if row[side] == 'Yes':\n",
    "            return 1\n",
    "    return 0\n",
    "\n",
    "def left_side_damage(row):\n",
    "    left_side = ['LR2', 'LRP1', 'LRP3', 'FDS1', 'FDS3', 'LFC1']\n",
    "    for side in left_side:\n",
    "        if row[side] == 'Yes':\n",
    "            return 1\n",
    "    return 0\n",
    "\n",
    "def other_damage(row):\n",
    "    other = ['LR3', 'LRP2', 'LRP4', 'FDS2', 'FDS4', 'LFC2', \n",
    "             'RR2','RRP1', 'RRP3', 'FPS1', 'FPS3', 'RFC1']\n",
    "    for side in other:\n",
    "        if row[side] == 'Yes':\n",
    "            return 1\n",
    "    return 0"
   ]
  },
  {
   "cell_type": "code",
   "execution_count": 755,
   "metadata": {},
   "outputs": [
    {
     "name": "stdout",
     "output_type": "stream",
     "text": [
      "0    194\n",
      "1    163\n",
      "Name: Rear Damage, dtype: int64\n",
      "0    309\n",
      "1     48\n",
      "Name: Front Damage, dtype: int64\n",
      "0    304\n",
      "1     53\n",
      "Name: Right Side Damage, dtype: int64\n",
      "0    291\n",
      "1     66\n",
      "Name: Left Side Damage, dtype: int64\n",
      "0    343\n",
      "1     14\n",
      "Name: Inside Damage, dtype: int64\n"
     ]
    }
   ],
   "source": [
    "CA_data['Rear Damage'] = CA_data.apply(rear_damage, axis=1)\n",
    "CA_data['Front Damage'] = CA_data.apply(front_damage, axis=1)\n",
    "CA_data['Right Side Damage'] = CA_data.apply(right_side_damage, axis=1)\n",
    "CA_data['Left Side Damage'] = CA_data.apply(left_side_damage, axis=1)\n",
    "CA_data['Inside Damage'] = CA_data.apply(other_damage, axis=1)\n",
    "\n",
    "print(CA_data['Rear Damage'].value_counts())\n",
    "print(CA_data['Front Damage'].value_counts())\n",
    "print(CA_data['Right Side Damage'].value_counts())\n",
    "print(CA_data['Left Side Damage'].value_counts())\n",
    "print(CA_data['Inside Damage'].value_counts())\n",
    "\n"
   ]
  },
  {
   "cell_type": "code",
   "execution_count": 756,
   "metadata": {},
   "outputs": [],
   "source": [
    "# Drop the columns that are not needed\n",
    "columns_dropped = ['LR1', 'RB', 'RR1', 'LFC3', 'RFC3', 'FB', \n",
    "                   'RR3', 'RRP2', 'RRP4', 'FPS2', 'FPS4', 'RFC2', \n",
    "                   'LR2', 'LRP1', 'LRP3', 'FDS1', 'FDS3', 'LFC1', \n",
    "                   'LR3', 'LRP2', 'LRP4', 'FDS2', 'FDS4', 'LFC2', \n",
    "                   'RR2', 'RRP1', 'RRP3', 'FPS1', 'FPS3', 'RFC1']\n",
    "CA_data.drop(columns=columns_dropped, inplace=True)"
   ]
  },
  {
   "cell_type": "markdown",
   "metadata": {},
   "source": [
    "#### Column Date\n",
    "\n",
    "##### Should i normalize?\n"
   ]
  },
  {
   "cell_type": "code",
   "execution_count": 757,
   "metadata": {},
   "outputs": [],
   "source": [
    "CA_data[\"Date\"] = pd.to_datetime(CA_data['Date'])\n",
    "CA_data[\"accident_Year\"] = CA_data[\"Date\"].dt.year\n",
    "CA_data['accident_Month'] = CA_data['Date'].dt.month\n",
    "CA_data['accident_Day'] = CA_data['Date'].dt.day\n",
    "CA_data['accident_Day_of_week'] = CA_data['Date'].dt.dayofweek\n",
    "CA_data.drop(columns=['Date'], inplace=True)"
   ]
  },
  {
   "cell_type": "markdown",
   "metadata": {},
   "source": [
    "#### Time\n",
    "\n",
    "#### We only need the hour"
   ]
  },
  {
   "cell_type": "code",
   "execution_count": 758,
   "metadata": {},
   "outputs": [],
   "source": [
    "CA_data.drop(CA_data[CA_data['Time'] == 'Not Available'].index, inplace=True)\n",
    "\n",
    "CA_data['accident_Hour'] = pd.to_datetime(CA_data['Time']).dt.hour\n",
    "CA_data.drop(columns = ['Time'], inplace=True)\n",
    "\n"
   ]
  },
  {
   "cell_type": "markdown",
   "metadata": {},
   "source": [
    "#### Scaling some of the columns"
   ]
  },
  {
   "cell_type": "code",
   "execution_count": 759,
   "metadata": {},
   "outputs": [],
   "source": [
    "from sklearn.preprocessing import MinMaxScaler\n",
    "\n",
    "scaler = MinMaxScaler()\n",
    "columns_to_scale = ['accident_Month', 'accident_Day', 'accident_Day_of_week', 'accident_Hour', 'accident_Year','Vehicle 1 Year of Manufacturing']\n",
    "CA_data[columns_to_scale] = scaler.fit_transform(CA_data[columns_to_scale])\n"
   ]
  },
  {
   "cell_type": "markdown",
   "metadata": {},
   "source": [
    "#### Column: Make and model\n",
    "\n",
    "is nissan leaf a sedan or suv? sedan for now"
   ]
  },
  {
   "cell_type": "code",
   "execution_count": 760,
   "metadata": {},
   "outputs": [
    {
     "name": "stdout",
     "output_type": "stream",
     "text": [
      "Chevrolet Bolt               104\n",
      "Chrysler Pacifica             58\n",
      "Jaguar I-Pace                 45\n",
      "Cruise AV                     38\n",
      "Toyota Highlander             32\n",
      "Lexus RX 450h                 22\n",
      "Lincoln MKZ                    7\n",
      "Google Self Driving Car        5\n",
      "Jaguar I-PACE                  4\n",
      "Nissan Leaf                    4\n",
      "Ford Fusion                    4\n",
      "Toyota Prius                   2\n",
      "NISSAN LEAF                    2\n",
      "Cheverolet Bolt                2\n",
      "Toyota Camry                   1\n",
      "Hyundai KONA                   1\n",
      "Lincoln MKZ Hybrid             1\n",
      "Navya ARMA                     1\n",
      "Volvo XC92                     1\n",
      "Volvo XC91                     1\n",
      "Volvo XC90                     1\n",
      "Lexus LX 600H L                1\n",
      "Hyundai Kona EV                1\n",
      "Audi SQ5                       1\n",
      "Mercedes-Benz S580             1\n",
      "MERCEDES-BENZ S450 4MATIC      1\n",
      "S CLASS MERCEDES-BENZ          1\n",
      "Mercedes-Benz S500             1\n",
      "MERCEDES-BENZ S580             1\n",
      "MERCEDES-BENZ S-CLASS          1\n",
      "Ford Fusion Hybrid             1\n",
      "Name: makeModel, dtype: int64\n"
     ]
    }
   ],
   "source": [
    "# create a new column makeModel that combines the two columns\n",
    "CA_data['makeModel'] = CA_data['Vehicle 1 Make'] + ' ' + CA_data['Vehicle 1 Model']\n",
    "\n",
    "print(CA_data['makeModel'].value_counts())\n",
    "# print(CA_data['Vehicle 1 Make'].value_counts())\n",
    "# print(CA_data['Vehicle 1 Model'].value_counts())\n",
    "\n",
    "top_values = CA_data['makeModel'].value_counts().index[:6]\n",
    "encoded_data = pd.get_dummies(CA_data['makeModel'].where(CA_data['makeModel'].isin(top_values), other='other_makeModel'))\n",
    "CA_data = pd.concat([CA_data, encoded_data], axis=1)\n",
    "\n"
   ]
  },
  {
   "cell_type": "code",
   "execution_count": 761,
   "metadata": {},
   "outputs": [
    {
     "name": "stdout",
     "output_type": "stream",
     "text": [
      "Sedan    134\n",
      "SUV      109\n",
      "Van       59\n",
      "Other     44\n",
      "Name: Vehicle Type, dtype: int64\n"
     ]
    }
   ],
   "source": [
    "# generated using chatgpt confirmed by gemini\n",
    "suv = [\n",
    "    'Jaguar I-Pace','Toyota Highlander', 'Lexus RX 450h', 'Jaguar I-PACE','Hyundai KONA','Volvo XC92',\n",
    "    'Volvo XC91','Volvo XC90', 'Hyundai Kona EV','Audi SQ5'\n",
    "]\n",
    "sedans = ['Chevrolet Bolt', 'Cheverolet Bolt',  'Lincoln MKZ', 'Lincoln MKZ Hybrid', \n",
    "          'Ford Fusion', 'Ford Fusion Hybrid', 'Toyota Prius', 'Toyota Camry', 'Mercedes-Benz S580', 'MERCEDES-BENZ S450 4MATIC', \n",
    "          'Mercedes-Benz S500', 'MERCEDES-BENZ S580', 'MERCEDES-BENZ S-CLASS', 'Nissan Leaf', 'NISSAN LEAF', 'S CLASS MERCEDES-BENZ']\n",
    "\n",
    "vans = ['Chrysler Pacifica', 'Lexus LX 600H L']\n",
    "others = ['Cruise AV', 'Google Self Driving Car','Navya ARMA']\n",
    "\n",
    "def determine_vehicle_type(row):\n",
    "    \n",
    "    if row['makeModel'] in suv:\n",
    "        return 'SUV'\n",
    "    elif row['makeModel'] in sedans:\n",
    "        return 'Sedan'\n",
    "    elif row['makeModel'] in vans:\n",
    "        return 'Van'\n",
    "    elif row['makeModel'] in others:\n",
    "        return 'Other'\n",
    "    return 'Forgot'\n",
    "\n",
    "CA_data['Vehicle Type'] = CA_data.apply(determine_vehicle_type, axis=1)\n",
    "print(CA_data['Vehicle Type'].value_counts())\n",
    "CA_data = pd.get_dummies(CA_data, columns=['Vehicle Type'], prefix = 'Vehicle1_is')"
   ]
  },
  {
   "cell_type": "code",
   "execution_count": 762,
   "metadata": {},
   "outputs": [
    {
     "name": "stdout",
     "output_type": "stream",
     "text": [
      "Index(['Vehicle 1 Year of Manufacturing', 'Vehicle 1 Make', 'Vehicle 1 Model',\n",
      "       'City of Accident', 'Vehicle 1 was Moving',\n",
      "       'Vehicle 1 was Stopped in Traffic',\n",
      "       'Number of Vehicles involved in Accident (w V1)', 'Vehicle Damage',\n",
      "       'Vehicle 2 Model', 'Vehicle 2 Year of Manufacturing',\n",
      "       'Vehicle 2 was Moving', 'Vehicle 2 was Stopped in Traffic',\n",
      "       'Pedestrian Involved in Accident (w V2)',\n",
      "       'Bicyclist involved in Accident (w V2)',\n",
      "       'Any other involved entity (w V2)',\n",
      "       'Number of Vehicles involved in Accident (w V2)', 'Car Mode',\n",
      "       'Description', 'Weather Vehicle 2', 'Lighting Vehicle 2',\n",
      "       'Roadway Surface Vehicle 2', 'Roadway Conditions Vehicle 1',\n",
      "       'Roadway Conditions Vehicle 2',\n",
      "       'Movement Preceding Collision Vehicle 2', 'Type of Collison Vehicle 1',\n",
      "       'Type of Collison Vehicle 2', 'Other Factors', 'Clear', 'Cloudy',\n",
      "       'Fog/Visibility/Dark', 'Raining', 'Lighting Vehicle 1_Dark',\n",
      "       'Lighting Vehicle 1_Daylight', 'Road_Dry', 'Road_Wet',\n",
      "       'Movement Preceding Collision Vehicle 1_Backing',\n",
      "       'Movement Preceding Collision Vehicle 1_Moving on Highway',\n",
      "       'Movement Preceding Collision Vehicle 1_Parking',\n",
      "       'Movement Preceding Collision Vehicle 1_Proceeding Straight',\n",
      "       'Movement Preceding Collision Vehicle 1_Stopped',\n",
      "       'Movement Preceding Collision Vehicle 1_Turning', 'External_factors',\n",
      "       'Manufacturer_apple', 'Manufacturer_cruise', 'Manufacturer_google',\n",
      "       'Manufacturer_other', 'Manufacturer_waymo', 'Manufacturer_zoox',\n",
      "       'Rear Damage', 'Front Damage', 'Right Side Damage', 'Left Side Damage',\n",
      "       'Inside Damage', 'accident_Year', 'accident_Month', 'accident_Day',\n",
      "       'accident_Day_of_week', 'accident_Hour', 'makeModel', 'Chevrolet Bolt',\n",
      "       'Chrysler Pacifica', 'Cruise AV', 'Jaguar I-Pace', 'Lexus RX 450h',\n",
      "       'Toyota Highlander', 'other_makeModel', 'Vehicle1_is_Other',\n",
      "       'Vehicle1_is_SUV', 'Vehicle1_is_Sedan', 'Vehicle1_is_Van'],\n",
      "      dtype='object')\n"
     ]
    }
   ],
   "source": [
    "print(CA_data.columns)"
   ]
  },
  {
   "cell_type": "code",
   "execution_count": 763,
   "metadata": {},
   "outputs": [],
   "source": [
    "CA_data.drop(columns=['makeModel', 'Vehicle 1 Make', 'Vehicle 1 Model'], inplace=True)\n"
   ]
  },
  {
   "cell_type": "code",
   "execution_count": 764,
   "metadata": {},
   "outputs": [],
   "source": [
    "# save the csv\n",
    "CA_data.to_csv('../CA_data_cleaned.csv', index=False)"
   ]
  },
  {
   "cell_type": "markdown",
   "metadata": {},
   "source": [
    "#### Column City of accident"
   ]
  },
  {
   "cell_type": "code",
   "execution_count": 765,
   "metadata": {},
   "outputs": [
    {
     "name": "stdout",
     "output_type": "stream",
     "text": [
      "San Francisco San Francisco 13 13\n",
      "Is the string and the var the same? False\n",
      "\n",
      "\n",
      "SF Bay Area    234\n",
      "South Bay       96\n",
      "SoCal           14\n",
      "Name: City of Accident, dtype: int64\n"
     ]
    }
   ],
   "source": [
    "# print(CA_data['City of Accident'].value_counts())\n",
    "bay_area = ['San Francisco', 'San Bruno', 'Crockett',  'Belmont', 'Emeryville']\n",
    "\n",
    "# SF for some reason is not being replaced because\n",
    "# for some reason San Fransico is being encoded weird or something\n",
    "SF_var = CA_data['City of Accident'][:5][1]\n",
    "print(SF_var, 'San Francisco', len(SF_var), len('San Francisco'))\n",
    "print(f\"Is the string and the var the same? {SF_var == 'San Francisco'}\\n\\n\")\n",
    "\n",
    "bay_area.append(SF_var)\n",
    "south_bay = ['Mountain View', 'Palo Alto', 'Sunnyvale', 'Los Altos', 'Fremont',\n",
    "                    'Santa Clara', 'Milpitas', 'San Jose', 'SANTA CLARA', \n",
    "                    'SB, 101 US Freeway, Old Middlefield Rd x Shorline Mountain View']\n",
    "socal = ['Los Angeles', 'Santa Monica', 'LONG BEACH', 'GARDENA', 'SANTA FE SPRINGS', 'Irvine', ]\n",
    "\n",
    "CA_data['City of Accident'].replace(south_bay, 'South Bay', inplace=True)\n",
    "CA_data['City of Accident'].replace(socal, 'SoCal', inplace=True)\n",
    "CA_data['City of Accident'].replace(bay_area , 'SF Bay Area', inplace=True)\n",
    "\n",
    "CA_data.drop(CA_data[CA_data['City of Accident'] == 'Not Available'].index, inplace=True)\n",
    "\n",
    "print(CA_data['City of Accident'].value_counts())\n",
    "\n",
    "CA_data = pd.get_dummies(CA_data, columns=['City of Accident'], prefix = 'area_of_accident')\n"
   ]
  },
  {
   "cell_type": "markdown",
   "metadata": {},
   "source": [
    "#### Encode Vehicle Damage"
   ]
  },
  {
   "cell_type": "code",
   "execution_count": 766,
   "metadata": {},
   "outputs": [
    {
     "name": "stdout",
     "output_type": "stream",
     "text": [
      "Minor            217\n",
      "None              49\n",
      "Moderate          49\n",
      "Not Available     21\n",
      "Major              8\n",
      "Name: Vehicle Damage, dtype: int64\n",
      "1    217\n",
      "3     49\n",
      "2     49\n",
      "0      8\n",
      "Name: Vehicle Damage, dtype: int64\n"
     ]
    }
   ],
   "source": [
    "# import label encoder\n",
    "from sklearn.preprocessing import LabelEncoder\n",
    "\n",
    "# instantiate labelencoder object\n",
    "encoder = LabelEncoder()\n",
    "print(CA_data['Vehicle Damage'].value_counts())\n",
    "\n",
    "# drop the rows that have not available\n",
    "CA_data.drop(CA_data[CA_data['Vehicle Damage'] == 'Not Available'].index, inplace=True)\n",
    "\n",
    "# encode the columns\n",
    "CA_data['Vehicle Damage'] = encoder.fit_transform(CA_data['Vehicle Damage'])\n",
    "print(CA_data['Vehicle Damage'].value_counts())\n",
    "\n"
   ]
  },
  {
   "cell_type": "markdown",
   "metadata": {},
   "source": [
    "#### Car Mode"
   ]
  },
  {
   "cell_type": "code",
   "execution_count": 767,
   "metadata": {},
   "outputs": [],
   "source": [
    "CA_data = pd.get_dummies(CA_data, columns = ['Car Mode'])"
   ]
  },
  {
   "cell_type": "markdown",
   "metadata": {},
   "source": [
    "#### Description"
   ]
  },
  {
   "cell_type": "code",
   "execution_count": 768,
   "metadata": {},
   "outputs": [],
   "source": [
    "CA_data.drop(columns=['Description'], inplace=True)"
   ]
  },
  {
   "cell_type": "markdown",
   "metadata": {},
   "source": [
    "#### Type of collision"
   ]
  },
  {
   "cell_type": "code",
   "execution_count": 769,
   "metadata": {},
   "outputs": [
    {
     "name": "stdout",
     "output_type": "stream",
     "text": [
      "Other            128\n",
      "Rear End          72\n",
      "Side Swipe        40\n",
      "Head-On           22\n",
      "Hit Object        20\n",
      "Not Available     16\n",
      "Broadside          5\n",
      "Name: Type of Collison Vehicle 1, dtype: int64\n"
     ]
    }
   ],
   "source": [
    "print(CA_data['Type of Collison Vehicle 1'].value_counts())\n",
    "# drop not available\n",
    "CA_data.drop(CA_data[CA_data['Type of Collison Vehicle 1'] == 'Not Available'].index, inplace=True)\n",
    "\n",
    "CA_data = pd.get_dummies(CA_data, columns = ['Type of Collison Vehicle 1'], prefix = 'Collision')"
   ]
  },
  {
   "cell_type": "markdown",
   "metadata": {},
   "source": [
    "#### Other factors"
   ]
  },
  {
   "cell_type": "code",
   "execution_count": 770,
   "metadata": {},
   "outputs": [
    {
     "name": "stdout",
     "output_type": "stream",
     "text": [
      "None Apparent                                       251\n",
      "CVC Sections Not Violated                            12\n",
      "Entering/Leaving Traffic                             10\n",
      "CVC SECTIONS Violated No                              3\n",
      "Stop and Go Traffic                                   3\n",
      "CVC Sections Violated                                 2\n",
      "Runaway Vehicle                                       1\n",
      "CVC SECTIONS Violated No, DEFECTIVE WEH EQUIP No      1\n",
      "Other                                                 1\n",
      "Vision Obscured                                       1\n",
      "ENTERING/LEAVING RAMP                                 1\n",
      "Inattention                                           1\n",
      "Name: Other Factors, dtype: int64\n"
     ]
    }
   ],
   "source": [
    "print(CA_data['Other Factors'].value_counts())\n",
    "# Dropping it\n",
    "CA_data.drop(columns=['Other Factors'], inplace=True)"
   ]
  },
  {
   "cell_type": "markdown",
   "metadata": {},
   "source": [
    "#### Dealing with car 2\n",
    "\n",
    "##### I am dropping all the descriptions of the second car and only indicating if there was another car"
   ]
  },
  {
   "cell_type": "code",
   "execution_count": 771,
   "metadata": {},
   "outputs": [],
   "source": [
    "# columns to be dropped\n",
    "\n",
    "# drop all the columns that have 'V2' oir 'Vehicle 2 in it\n",
    "columns = [col for col in CA_data.columns if 'V2' in col or 'Vehicle 2' in col]\n",
    "CA_data.drop(columns=columns, inplace=True)\n"
   ]
  },
  {
   "cell_type": "code",
   "execution_count": 772,
   "metadata": {},
   "outputs": [
    {
     "name": "stdout",
     "output_type": "stream",
     "text": [
      "Index(['Vehicle 1 Year of Manufacturing', 'Vehicle 1 was Moving',\n",
      "       'Vehicle 1 was Stopped in Traffic',\n",
      "       'Number of Vehicles involved in Accident (w V1)', 'Vehicle Damage',\n",
      "       'Roadway Conditions Vehicle 1', 'Clear', 'Cloudy',\n",
      "       'Fog/Visibility/Dark', 'Raining', 'Lighting Vehicle 1_Dark',\n",
      "       'Lighting Vehicle 1_Daylight', 'Road_Dry', 'Road_Wet',\n",
      "       'Movement Preceding Collision Vehicle 1_Backing',\n",
      "       'Movement Preceding Collision Vehicle 1_Moving on Highway',\n",
      "       'Movement Preceding Collision Vehicle 1_Parking',\n",
      "       'Movement Preceding Collision Vehicle 1_Proceeding Straight',\n",
      "       'Movement Preceding Collision Vehicle 1_Stopped',\n",
      "       'Movement Preceding Collision Vehicle 1_Turning', 'External_factors',\n",
      "       'Manufacturer_apple', 'Manufacturer_cruise', 'Manufacturer_google',\n",
      "       'Manufacturer_other', 'Manufacturer_waymo', 'Manufacturer_zoox',\n",
      "       'Rear Damage', 'Front Damage', 'Right Side Damage', 'Left Side Damage',\n",
      "       'Inside Damage', 'accident_Year', 'accident_Month', 'accident_Day',\n",
      "       'accident_Day_of_week', 'accident_Hour', 'Chevrolet Bolt',\n",
      "       'Chrysler Pacifica', 'Cruise AV', 'Jaguar I-Pace', 'Lexus RX 450h',\n",
      "       'Toyota Highlander', 'other_makeModel', 'Vehicle1_is_Other',\n",
      "       'Vehicle1_is_SUV', 'Vehicle1_is_Sedan', 'Vehicle1_is_Van',\n",
      "       'area_of_accident_SF Bay Area', 'area_of_accident_SoCal',\n",
      "       'area_of_accident_South Bay', 'Car Mode_Autonomous Mode',\n",
      "       'Car Mode_Conventional Mode', 'Collision_Broadside',\n",
      "       'Collision_Head-On', 'Collision_Hit Object', 'Collision_Other',\n",
      "       'Collision_Rear End', 'Collision_Side Swipe'],\n",
      "      dtype='object')\n"
     ]
    }
   ],
   "source": [
    "print(CA_data.columns)\n"
   ]
  },
  {
   "cell_type": "code",
   "execution_count": 773,
   "metadata": {},
   "outputs": [],
   "source": [
    "CA_data.to_csv('CA_data_cleaned.csv', index=False)"
   ]
  }
 ],
 "metadata": {
  "kernelspec": {
   "display_name": "base",
   "language": "python",
   "name": "python3"
  },
  "language_info": {
   "codemirror_mode": {
    "name": "ipython",
    "version": 3
   },
   "file_extension": ".py",
   "mimetype": "text/x-python",
   "name": "python",
   "nbconvert_exporter": "python",
   "pygments_lexer": "ipython3",
   "version": "3.9.13"
  }
 },
 "nbformat": 4,
 "nbformat_minor": 2
}
