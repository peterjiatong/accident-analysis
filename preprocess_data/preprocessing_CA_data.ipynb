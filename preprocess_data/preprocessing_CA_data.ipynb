{
 "cells": [
  {
   "cell_type": "code",
   "execution_count": 2,
   "metadata": {},
   "outputs": [],
   "source": [
    "import pandas as pd\n",
    "import numpy as np"
   ]
  },
  {
   "cell_type": "code",
   "execution_count": 3,
   "metadata": {},
   "outputs": [],
   "source": [
    "CA_data = pd.read_csv('../CA_data.csv')"
   ]
  },
  {
   "cell_type": "markdown",
   "metadata": {},
   "source": [
    "### Dropping useless column\n"
   ]
  },
  {
   "cell_type": "code",
   "execution_count": 4,
   "metadata": {},
   "outputs": [],
   "source": [
    "# drop these columns\n",
    "columns_dropped = ['Vehicle 1 Business Name', 'Lat1', 'Lat2', 'Lat3', 'Lng1', 'Lng2', 'Lng3', \n",
    "                   'Property Damage', 'Property Owner\\'s Details', 'ZIPCODE of Accident', \n",
    "                   'State of Accident', 'County of Accident', 'Location of Accident',\n",
    "                   ]\n",
    "CA_data.drop(columns=columns_dropped, inplace=True)\n"
   ]
  },
  {
   "cell_type": "code",
   "execution_count": 5,
   "metadata": {},
   "outputs": [
    {
     "name": "stdout",
     "output_type": "stream",
     "text": [
      "68\n"
     ]
    }
   ],
   "source": [
    "print(len(CA_data.columns))"
   ]
  },
  {
   "cell_type": "markdown",
   "metadata": {},
   "source": [
    "#### Column Weather Vehicle 1\n",
    "We are grouping Fog/visiblity with Dark because they are visual impariements\\\n",
    "We are grouping slippery, wind with raining because when it rains, it usally reults in slipperiness and sometimes wind\\"
   ]
  },
  {
   "cell_type": "code",
   "execution_count": 6,
   "metadata": {},
   "outputs": [
    {
     "name": "stdout",
     "output_type": "stream",
     "text": [
      "Weather Vehicle 1\n",
      "Clear                  265\n",
      "Cloudy                  29\n",
      "Raining                 14\n",
      "Not Available           13\n",
      "Fog/Visibility/Dark      4\n",
      "Name: count, dtype: int64\n"
     ]
    }
   ],
   "source": [
    "CA_data['Weather Vehicle 1'].replace(['Fog/Visibility', 'Dark'], 'Fog/Visibility/Dark', inplace=True)\n",
    "CA_data['Weather Vehicle 1'].replace(['Slippery', 'Wind'], 'Raining', inplace=True)\n",
    "\n",
    "print(CA_data['Weather Vehicle 1'].value_counts())"
   ]
  },
  {
   "cell_type": "markdown",
   "metadata": {},
   "source": [
    "#### Column: Vehicle 1 lighting\n",
    "Grouping no unusla condition and daylight b/c they basically the same\\\n",
    "Grouping Dusk/dawn with dark with street lights b/c they are relatively similar conditions\n"
   ]
  },
  {
   "cell_type": "code",
   "execution_count": 7,
   "metadata": {},
   "outputs": [
    {
     "name": "stdout",
     "output_type": "stream",
     "text": [
      "Lighting Vehicle 1\n",
      "Daylight                                227\n",
      "Dark w Street-lights                     81\n",
      "Not Available                            13\n",
      "No unusual conditions                     2\n",
      "Dark w Non-functioning Street-lights      2\n",
      "Name: count, dtype: int64\n"
     ]
    }
   ],
   "source": [
    "CA_data['Lighting Vehicle 1'].replace(['No unusual condition'], 'Daylight', inplace=True)\n",
    "CA_data['Lighting Vehicle 1'].replace(['Dusk/Dawn'], 'Dark w Street-lights', inplace=True)\n",
    "\n",
    "\n",
    "print(CA_data['Lighting Vehicle 1'].value_counts())"
   ]
  },
  {
   "cell_type": "markdown",
   "metadata": {},
   "source": [
    "#### Column: Surface/Road condition \n",
    "Wet roads = slippery roads\\\n",
    "Dropped other and proceeding straight b/c they dont provide much value"
   ]
  },
  {
   "cell_type": "code",
   "execution_count": 8,
   "metadata": {},
   "outputs": [
    {
     "name": "stdout",
     "output_type": "stream",
     "text": [
      "Roadway Surface Vehicle 1\n",
      "Dry              286\n",
      "Wet               22\n",
      "Not Available     15\n",
      "Name: count, dtype: int64\n"
     ]
    }
   ],
   "source": [
    "\n",
    "CA_data['Roadway Surface Vehicle 1'].replace(['Slippery'], 'Wet', inplace=True)\n",
    "CA_data.drop(CA_data[(CA_data['Roadway Surface Vehicle 1'] == 'Other') | (CA_data['Roadway Surface Vehicle 1'] == 'Proceeding Straight')].index, inplace=True)\n",
    "\n",
    "print(CA_data['Roadway Surface Vehicle 1'].value_counts())"
   ]
  },
  {
   "cell_type": "markdown",
   "metadata": {},
   "source": [
    "#### Column: Movement before the collision\n",
    "grouping turns, high movements, parking, and dropping others"
   ]
  },
  {
   "cell_type": "code",
   "execution_count": 9,
   "metadata": {},
   "outputs": [
    {
     "name": "stdout",
     "output_type": "stream",
     "text": [
      "Movement Preceding Collision Vehicle 1\n",
      "Stopped                152\n",
      "Proceeding Straight     91\n",
      "Turning                 29\n",
      "Not Available           13\n",
      "Parking                 11\n",
      "Highway movement        10\n",
      "Backing                  8\n",
      "Parking Manuever         3\n",
      "Stoppped                 1\n",
      "Name: count, dtype: int64\n"
     ]
    }
   ],
   "source": [
    "CA_data['Movement Preceding Collision Vehicle 1'].replace(['Making Right Turn', 'Making Left Turn', 'Making U turn', 'Making Right Turn, Slowing/Stopping'], 'Turning', inplace=True)\n",
    "CA_data['Movement Preceding Collision Vehicle 1'].replace(['Changing Lanes', 'Entering Traffic', 'Entrering Traffic','Xing into opposing lane', 'Passing Other Vehicle'], 'Highway movement', inplace=True)\n",
    "CA_data['Movement Preceding Collision Vehicle 1'].replace(['Slowing/Stopping', 'Stopped in Traffic', 'Parked', 'Stopped, Merging'], 'Stopped', inplace=True)\n",
    "CA_data['Movement Preceding Collision Vehicle 1'].replace(['Parking Manuerver'], 'Parking', inplace=True)\n",
    "CA_data.drop(CA_data[(CA_data['Movement Preceding Collision Vehicle 1'] == 'Other')].index, inplace=True)\n",
    "\n",
    "print(CA_data['Movement Preceding Collision Vehicle 1'].value_counts())"
   ]
  },
  {
   "cell_type": "markdown",
   "metadata": {},
   "source": [
    "#### Column: Vehicle 1 was stopped/moving in traffic\n",
    "Fixing some off the mislabeled data\n"
   ]
  },
  {
   "cell_type": "code",
   "execution_count": 10,
   "metadata": {},
   "outputs": [
    {
     "name": "stdout",
     "output_type": "stream",
     "text": [
      "Vehicle 1 was Stopped in Traffic\n",
      "No     203\n",
      "Yes    169\n",
      "Name: count, dtype: int64\n",
      "Vehicle 1 was Moving\n",
      "Yes    192\n",
      "No     180\n",
      "Name: count, dtype: int64\n"
     ]
    }
   ],
   "source": [
    "\n",
    "CA_data['Vehicle 1 was Stopped in Traffic'].replace(['/Off'], 'Yes', inplace=True)\n",
    "CA_data['Vehicle 1 was Moving'].replace(['/Off'], 'No', inplace=True)\n",
    "\n",
    "CA_data['Vehicle 1 was Stopped in Traffic'].replace(['yes'], 'Yes', inplace=True)\n",
    "CA_data['Vehicle 1 was Moving'].replace(['Moving'], 'Yes', inplace=True)\n",
    "\n",
    "print(CA_data['Vehicle 1 was Stopped in Traffic'].value_counts())  \n",
    "print(CA_data['Vehicle 1 was Moving'].value_counts())"
   ]
  },
  {
   "cell_type": "markdown",
   "metadata": {},
   "source": [
    "#### Combining pedestrian, bicycle, and other entitys into one column called External_columns\n"
   ]
  },
  {
   "cell_type": "code",
   "execution_count": 11,
   "metadata": {},
   "outputs": [
    {
     "name": "stdout",
     "output_type": "stream",
     "text": [
      "Pedestrian Involved in Accident (w V1)\n",
      "No     371\n",
      "Yes      1\n",
      "Name: count, dtype: int64\n",
      "Bicyclist involved in Accident (w V1)\n",
      "No     363\n",
      "Yes      9\n",
      "Name: count, dtype: int64\n",
      "Any other involved entity (w V1)\n",
      "No                  342\n",
      "Vehicle              13\n",
      "Car                   5\n",
      "Truck                 3\n",
      "Parked                2\n",
      "electric scooter      1\n",
      "Const. Equipment      1\n",
      "Scooter               1\n",
      "IRON ROD              1\n",
      "small dog             1\n",
      "Van                   1\n",
      "car                   1\n",
      "Name: count, dtype: int64\n"
     ]
    }
   ],
   "source": [
    "print(CA_data['Pedestrian Involved in Accident (w V1)'].value_counts())\n",
    "print(CA_data['Bicyclist involved in Accident (w V1)'].value_counts())\n",
    "print(CA_data['Any other involved entity (w V1)'].value_counts())"
   ]
  },
  {
   "cell_type": "code",
   "execution_count": 12,
   "metadata": {},
   "outputs": [
    {
     "name": "stdout",
     "output_type": "stream",
     "text": [
      "External_factors\n",
      "0    355\n",
      "1     17\n",
      "Name: count, dtype: int64\n"
     ]
    }
   ],
   "source": [
    "def determine_new_col(row):\n",
    "    pedestrian = row['Pedestrian Involved in Accident (w V1)'] == 'Yes'\n",
    "    bicyclist = row['Bicyclist involved in Accident (w V1)'] == 'Yes'\n",
    "    other = row['Any other involved entity (w V1)'].lower() not in ['no','vehicle','car','truck','van']\n",
    "    if (pedestrian or bicyclist or other):\n",
    "        return 1\n",
    "    \n",
    "    return 0\n",
    "\n",
    "# Apply the function to each row\n",
    "CA_data['External_factors'] = CA_data.apply(determine_new_col, axis=1)\n",
    "\n",
    "print(CA_data['External_factors'].value_counts())"
   ]
  },
  {
   "cell_type": "markdown",
   "metadata": {},
   "source": [
    "#### Column: Vehicle 1 Manufactuer"
   ]
  },
  {
   "cell_type": "code",
   "execution_count": 22,
   "metadata": {},
   "outputs": [
    {
     "name": "stdout",
     "output_type": "stream",
     "text": [
      "Vehicle 1\n",
      "cruise    158\n",
      "waymo     104\n",
      "other      38\n",
      "zoox       38\n",
      "google     24\n",
      "apple      10\n",
      "Name: count, dtype: int64\n",
      "Vehicle 1 Make\n",
      "Chevrolet        117\n",
      "Chrysler          60\n",
      "Jaguar            49\n",
      "Cruise            38\n",
      "Toyota            37\n",
      "Lexus             28\n",
      "Lincoln            8\n",
      "Google             7\n",
      "Nissan             6\n",
      "Ford               5\n",
      "Volvo              3\n",
      "MERCEDES-BENZ      3\n",
      "Hyundai            2\n",
      "NISSAN             2\n",
      "Mercedes-Benz      2\n",
      "Cheverolet         2\n",
      "S CLASS            1\n",
      "Navya              1\n",
      "Audi               1\n",
      "Name: count, dtype: int64\n"
     ]
    }
   ],
   "source": [
    "# rint(CA_data['Vehicle 1 Manufacturer'].value_counts())\n",
    "\n",
    "# if waymo, cruise, google, apple, etc is in the name replace with the company name\n",
    "def determine_vehicle_manufactuer(row):\n",
    "    companies = ['waymo', 'cruise', 'google', 'apple', 'zoox']\n",
    "    for company in companies:\n",
    "        if company in row['Vehicle 1 Manufacturer'].lower():\n",
    "            return company\n",
    "    return \"other\"\n",
    "\n",
    "CA_data['Vehicle 1'] = CA_data.apply(determine_vehicle_manufactuer, axis=1)\n",
    "print(CA_data['Vehicle 1'].value_counts())\n",
    "print(CA_data['Vehicle 1 Make'].value_counts())\n"
   ]
  }
 ],
 "metadata": {
  "kernelspec": {
   "display_name": "base",
   "language": "python",
   "name": "python3"
  },
  "language_info": {
   "codemirror_mode": {
    "name": "ipython",
    "version": 3
   },
   "file_extension": ".py",
   "mimetype": "text/x-python",
   "name": "python",
   "nbconvert_exporter": "python",
   "pygments_lexer": "ipython3",
   "version": "3.11.5"
  }
 },
 "nbformat": 4,
 "nbformat_minor": 2
}
