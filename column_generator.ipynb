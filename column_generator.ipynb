{
 "cells": [
  {
   "cell_type": "code",
   "execution_count": 66,
   "metadata": {},
   "outputs": [],
   "source": [
    "import pandas as pd\n",
    "import numpy as np\n"
   ]
  },
  {
   "cell_type": "markdown",
   "metadata": {},
   "source": [
    "#### Reading data"
   ]
  },
  {
   "cell_type": "code",
   "execution_count": 35,
   "metadata": {},
   "outputs": [],
   "source": [
    "CA_data = pd.read_csv('CA_data.csv')\n",
    "\n",
    "columns = ['Weather Vehicle 1', 'Lighting Vehicle 1', 'Roadway Surface Vehicle 1', \n",
    "           'Movement Preceding Collision Vehicle 1','Vehicle 1 was Stopped in Traffic', \n",
    "           'Vehicle 1 was Moving','Number of Vehicles involved in Accident (w V1)']\n",
    "\n"
   ]
  },
  {
   "cell_type": "markdown",
   "metadata": {},
   "source": [
    "### Preprocess Data"
   ]
  },
  {
   "cell_type": "code",
   "execution_count": 36,
   "metadata": {},
   "outputs": [
    {
     "name": "stdout",
     "output_type": "stream",
     "text": [
      "\n",
      "\n",
      "\n",
      "\n",
      "\n",
      "\n",
      "\n",
      "\n",
      "\n",
      "\n",
      "\n",
      "\n",
      "\n",
      "\n"
     ]
    }
   ],
   "source": [
    "# dropping columns with null data\n",
    "for col in columns:\n",
    "    print(\"\\n\")\n",
    "    CA_data.drop(CA_data[CA_data[col] == 'Not Available'].index, inplace=True)\n",
    "    \n",
    "\n"
   ]
  },
  {
   "cell_type": "markdown",
   "metadata": {},
   "source": [
    "### Grouping data\n",
    "\n"
   ]
  },
  {
   "cell_type": "markdown",
   "metadata": {},
   "source": [
    "#### Column Weather Vehicle 1\n",
    "We are grouping Fog/visiblity with Dark because they are visual impariements\\\n",
    "We are grouping slippery, wind with raining because when it rains, it usally reults in slipperiness and sometimes wind\\"
   ]
  },
  {
   "cell_type": "code",
   "execution_count": 37,
   "metadata": {},
   "outputs": [
    {
     "name": "stdout",
     "output_type": "stream",
     "text": [
      "Clear                  263\n",
      "Cloudy                  29\n",
      "Raining                 14\n",
      "Fog/Visibility/Dark      4\n",
      "Name: Weather Vehicle 1, dtype: int64\n"
     ]
    }
   ],
   "source": [
    "# grouping less frequent data \n",
    "CA_data['Weather Vehicle 1'].replace(['Fog/Visibility', 'Dark'], 'Fog/Visibility/Dark', inplace=True)\n",
    "CA_data['Weather Vehicle 1'].replace(['Slippery', 'Wind'], 'Raining', inplace=True)\n",
    "\n",
    "print(CA_data['Weather Vehicle 1'].value_counts())"
   ]
  },
  {
   "cell_type": "markdown",
   "metadata": {},
   "source": [
    "#### Lighting Vehicle 1\n",
    "Grouping no unusla condition and daylight b/c they basically the same\\\n",
    "Grouping Dusk/dawn with dark with street lights b/c they are relatively similar conditions\\"
   ]
  },
  {
   "cell_type": "code",
   "execution_count": 38,
   "metadata": {},
   "outputs": [
    {
     "name": "stdout",
     "output_type": "stream",
     "text": [
      "Daylight                                225\n",
      "Dark w Street-lights                     81\n",
      "No unusual conditions                     2\n",
      "Dark w Non-functioning Street-lights      2\n",
      "Name: Lighting Vehicle 1, dtype: int64\n"
     ]
    }
   ],
   "source": [
    "CA_data['Lighting Vehicle 1'].replace(['No unusual condition'], 'Daylight', inplace=True)\n",
    "CA_data['Lighting Vehicle 1'].replace(['Dusk/Dawn'], 'Dark w Street-lights', inplace=True)\n",
    "\n",
    "\n",
    "print(CA_data['Lighting Vehicle 1'].value_counts())"
   ]
  },
  {
   "cell_type": "markdown",
   "metadata": {},
   "source": [
    "#### Movement Preceding Collision Vehicle 1\n",
    "Wet roads = slippery roads\\\n",
    "Dropped other and proceeding straight b/c they dont provide much value\\"
   ]
  },
  {
   "cell_type": "code",
   "execution_count": 39,
   "metadata": {},
   "outputs": [
    {
     "name": "stdout",
     "output_type": "stream",
     "text": [
      "Dry    286\n",
      "Wet     22\n",
      "Name: Roadway Surface Vehicle 1, dtype: int64\n"
     ]
    }
   ],
   "source": [
    "\n",
    "CA_data['Roadway Surface Vehicle 1'].replace(['Slippery'], 'Wet', inplace=True)\n",
    "CA_data.drop(CA_data[(CA_data['Roadway Surface Vehicle 1'] == 'Other') | (CA_data['Roadway Surface Vehicle 1'] == 'Proceeding Straight')].index, inplace=True)\n",
    "\n",
    "print(CA_data['Roadway Surface Vehicle 1'].value_counts())\n"
   ]
  },
  {
   "cell_type": "markdown",
   "metadata": {},
   "source": [
    "### Movement Preceding Collusion vehicle 1\n",
    "\n",
    "#### grouping turns, high movements, parking, and dropping others"
   ]
  },
  {
   "cell_type": "code",
   "execution_count": 40,
   "metadata": {},
   "outputs": [
    {
     "name": "stdout",
     "output_type": "stream",
     "text": [
      "Stopped                151\n",
      "Proceeding Straight     91\n",
      "Turning                 29\n",
      "Parking                 11\n",
      "Highway movement        10\n",
      "Backing                  8\n",
      "Parking Manuever         3\n",
      "Name: Movement Preceding Collision Vehicle 1, dtype: int64\n"
     ]
    }
   ],
   "source": [
    "CA_data['Movement Preceding Collision Vehicle 1'].replace(['Making Right Turn', 'Making Left Turn', 'Making U turn', 'Making Right Turn, Slowing/Stopping'], 'Turning', inplace=True)\n",
    "CA_data['Movement Preceding Collision Vehicle 1'].replace(['Changing Lanes', 'Entering Traffic', 'Entrering Traffic','Xing into opposing lane', 'Passing Other Vehicle'], 'Highway movement', inplace=True)\n",
    "CA_data['Movement Preceding Collision Vehicle 1'].replace(['Slowing/Stopping', 'Stopped in Traffic', 'Parked', 'Stopped, Merging'], 'Stopped', inplace=True)\n",
    "CA_data['Movement Preceding Collision Vehicle 1'].replace(['Parking Manuerver'], 'Parking', inplace=True)\n",
    "CA_data.drop(CA_data[(CA_data['Movement Preceding Collision Vehicle 1'] == 'Other')].index, inplace=True)\n",
    "\n",
    "print(CA_data['Movement Preceding Collision Vehicle 1'].value_counts())"
   ]
  },
  {
   "cell_type": "code",
   "execution_count": 41,
   "metadata": {},
   "outputs": [
    {
     "name": "stdout",
     "output_type": "stream",
     "text": [
      "['Weather Vehicle 1', 'Lighting Vehicle 1', 'Roadway Surface Vehicle 1', 'Movement Preceding Collision Vehicle 1', 'Vehicle 1 was Stopped in Traffic', 'Vehicle 1 was Moving', 'Number of Vehicles involved in Accident (w V1)']\n"
     ]
    }
   ],
   "source": [
    "print(columns)"
   ]
  },
  {
   "cell_type": "markdown",
   "metadata": {},
   "source": [
    "Fixing some off the mislabeled data"
   ]
  },
  {
   "cell_type": "code",
   "execution_count": 42,
   "metadata": {},
   "outputs": [
    {
     "name": "stdout",
     "output_type": "stream",
     "text": [
      "No     192\n",
      "Yes    165\n",
      "Name: Vehicle 1 was Stopped in Traffic, dtype: int64\n",
      "Yes    183\n",
      "No     174\n",
      "Name: Vehicle 1 was Moving, dtype: int64\n"
     ]
    }
   ],
   "source": [
    "\n",
    "# print(CA_data['Vehicle 1 was Stopped in Traffic'].value_counts())  \n",
    "# print(CA_data['Vehicle 1 was Moving'].value_counts())\n",
    "\n",
    "CA_data['Vehicle 1 was Stopped in Traffic'].replace(['/Off'], 'Yes', inplace=True)\n",
    "CA_data['Vehicle 1 was Moving'].replace(['/Off'], 'No', inplace=True)\n",
    "\n",
    "CA_data['Vehicle 1 was Stopped in Traffic'].replace(['yes'], 'Yes', inplace=True)\n",
    "CA_data['Vehicle 1 was Moving'].replace(['Moving'], 'Yes', inplace=True)\n",
    "\n",
    "print(CA_data['Vehicle 1 was Stopped in Traffic'].value_counts())  \n",
    "print(CA_data['Vehicle 1 was Moving'].value_counts())"
   ]
  },
  {
   "cell_type": "code",
   "execution_count": 43,
   "metadata": {},
   "outputs": [
    {
     "name": "stdout",
     "output_type": "stream",
     "text": [
      "2.0    305\n",
      "1.0     43\n",
      "3.0      6\n",
      "Name: Number of Vehicles involved in Accident (w V1), dtype: int64\n"
     ]
    }
   ],
   "source": [
    "print(CA_data['Number of Vehicles involved in Accident (w V1)'].value_counts())"
   ]
  },
  {
   "cell_type": "code",
   "execution_count": 44,
   "metadata": {},
   "outputs": [],
   "source": [
    "# one hot encode our new columns\n",
    "categorical_columns = ['Weather Vehicle 1', 'Lighting Vehicle 1', 'Roadway Surface Vehicle 1', \n",
    "                        'Movement Preceding Collision Vehicle 1']\n",
    "\n",
    "encoded_CA_data = pd.get_dummies(CA_data, columns=categorical_columns, prefix='encoded_')\n",
    "encoded_columns = encoded_CA_data.columns[encoded_CA_data.columns.str.startswith('encoded_')]\n",
    "\n"
   ]
  },
  {
   "cell_type": "markdown",
   "metadata": {},
   "source": [
    "Preprocess outputs"
   ]
  },
  {
   "cell_type": "code",
   "execution_count": 45,
   "metadata": {},
   "outputs": [
    {
     "name": "stdout",
     "output_type": "stream",
     "text": [
      "1    217\n",
      "3     53\n",
      "2     49\n",
      "0      8\n",
      "Name: Vehicle Damage, dtype: int64\n",
      "0    175\n",
      "1    152\n",
      "Name: Vehicle 1 was Stopped in Traffic, dtype: int64\n",
      "1    169\n",
      "0    158\n",
      "Name: Vehicle 1 was Moving, dtype: int64\n"
     ]
    }
   ],
   "source": [
    "from sklearn.preprocessing import LabelEncoder\n",
    "\n",
    "encoded_CA_data.drop(encoded_CA_data[(encoded_CA_data['Vehicle Damage'] == 'Not Available')].index, inplace=True)\n",
    "\n",
    "\n",
    "\n",
    "label_encoder = LabelEncoder()\n",
    "encoded_CA_data['Vehicle Damage'] = label_encoder.fit_transform(encoded_CA_data['Vehicle Damage'])\n",
    "encoded_CA_data['Vehicle 1 was Stopped in Traffic'] = label_encoder.fit_transform(encoded_CA_data['Vehicle 1 was Stopped in Traffic'])\n",
    "\n",
    "encoded_CA_data['Vehicle 1 was Moving'] = label_encoder.fit_transform(encoded_CA_data['Vehicle 1 was Moving'])\n",
    "\n",
    "\n",
    "print(encoded_CA_data['Vehicle Damage'].value_counts())\n",
    "print(encoded_CA_data['Vehicle 1 was Stopped in Traffic'].value_counts())\n",
    "print(encoded_CA_data['Vehicle 1 was Moving'].value_counts())\n",
    "\n"
   ]
  },
  {
   "cell_type": "code",
   "execution_count": null,
   "metadata": {},
   "outputs": [],
   "source": []
  },
  {
   "cell_type": "code",
   "execution_count": 46,
   "metadata": {},
   "outputs": [],
   "source": [
    "# Split data into training and testing\n",
    "from sklearn.model_selection import train_test_split\n",
    "\n",
    "X = encoded_CA_data[encoded_columns]\n",
    "y = encoded_CA_data['Vehicle Damage']\n",
    "\n",
    "\n",
    "X_train, X_test, y_train, y_test = train_test_split(X, y, test_size=0.2, random_state=42)   \n",
    "\n"
   ]
  },
  {
   "cell_type": "code",
   "execution_count": 47,
   "metadata": {},
   "outputs": [
    {
     "data": {
      "text/plain": [
       "1    217\n",
       "3     53\n",
       "2     49\n",
       "0      8\n",
       "Name: Vehicle Damage, dtype: int64"
      ]
     },
     "execution_count": 47,
     "metadata": {},
     "output_type": "execute_result"
    }
   ],
   "source": [
    "y.value_counts()"
   ]
  },
  {
   "cell_type": "markdown",
   "metadata": {},
   "source": [
    "### SVM"
   ]
  },
  {
   "cell_type": "code",
   "execution_count": 51,
   "metadata": {},
   "outputs": [
    {
     "name": "stdout",
     "output_type": "stream",
     "text": [
      "[0.65957447 0.63829787 0.74468085 0.82978723 0.80851064 0.76086957\n",
      " 0.67391304]\n",
      "0.730804810360777\n"
     ]
    }
   ],
   "source": [
    "from sklearn import svm\n",
    "from sklearn.model_selection import cross_val_score\n",
    "\n",
    "\n",
    "clf = svm.SVC(kernel='linear')\n",
    "scores = cross_val_score(clf, X, y, cv=7)\n",
    "\n",
    "print(scores)\n",
    "print(np.mean(scores))\n",
    "\n",
    "\n"
   ]
  },
  {
   "cell_type": "markdown",
   "metadata": {},
   "source": [
    "### Neural network"
   ]
  },
  {
   "cell_type": "code",
   "execution_count": 68,
   "metadata": {},
   "outputs": [],
   "source": [
    "import torch\n",
    "import torch.nn as nn\n",
    "import torch.optim as optim\n",
    "import torch.nn.functional as F\n",
    "\n",
    "class FNN(nn.Module):\n",
    "    def __init__(self, input_channels, output_channels):\n",
    "\n",
    "        super(FNN, self).__init__()\n",
    "        self.fc1 = nn.Linear(input_channels, 6)\n",
    "        self.fc2 = nn.Linear(6, 4)\n",
    "        self.fc3 = nn.Linear(4, output_channels)\n",
    "\n",
    "    def forward(self, x):\n",
    "        x = F.relu(self.fc1(x))\n",
    "        x = F.relu(self.fc2(x))\n",
    "        x = self.fc3(x)\n",
    "        return x"
   ]
  },
  {
   "cell_type": "code",
   "execution_count": 53,
   "metadata": {},
   "outputs": [
    {
     "data": {
      "text/plain": [
       "1    174\n",
       "3     41\n",
       "2     40\n",
       "0      6\n",
       "Name: Vehicle Damage, dtype: int64"
      ]
     },
     "execution_count": 53,
     "metadata": {},
     "output_type": "execute_result"
    }
   ],
   "source": [
    "y_train.value_counts()"
   ]
  },
  {
   "cell_type": "code",
   "execution_count": 69,
   "metadata": {},
   "outputs": [],
   "source": [
    "X_train_np = X_train.values\n",
    "X_test_np = X_test.values\n",
    "y_train_np = y_train.values\n",
    "y_test_np = y_test.values\n",
    "\n",
    "\n",
    "X_train_tensor = torch.tensor(X_train_np, dtype=torch.float32)\n",
    "y_train_tensor = torch.tensor(y_train_np, dtype=torch.float32)\n",
    "X_test_tensor = torch.tensor(X_test_np, dtype=torch.float32)\n",
    "y_test_tensor = torch.tensor(y_test_np, dtype=torch.float32)\n"
   ]
  },
  {
   "cell_type": "code",
   "execution_count": 71,
   "metadata": {},
   "outputs": [
    {
     "name": "stdout",
     "output_type": "stream",
     "text": [
      "15 4\n",
      "2.3.0\n"
     ]
    },
    {
     "ename": "DeferredCudaCallError",
     "evalue": "CUDA call failed lazily at initialization with error: module 'torch' has no attribute 'version'\n\nCUDA call was originally invoked at:\n\n  File \"c:\\Users\\bobth\\anaconda3\\lib\\runpy.py\", line 197, in _run_module_as_main\n    return _run_code(code, main_globals, None,\n  File \"c:\\Users\\bobth\\anaconda3\\lib\\runpy.py\", line 87, in _run_code\n    exec(code, run_globals)\n  File \"c:\\Users\\bobth\\anaconda3\\lib\\site-packages\\ipykernel_launcher.py\", line 17, in <module>\n    app.launch_new_instance()\n  File \"c:\\Users\\bobth\\anaconda3\\lib\\site-packages\\traitlets\\config\\application.py\", line 846, in launch_instance\n    app.start()\n  File \"c:\\Users\\bobth\\anaconda3\\lib\\site-packages\\ipykernel\\kernelapp.py\", line 712, in start\n    self.io_loop.start()\n  File \"c:\\Users\\bobth\\anaconda3\\lib\\site-packages\\tornado\\platform\\asyncio.py\", line 199, in start\n    self.asyncio_loop.run_forever()\n  File \"c:\\Users\\bobth\\anaconda3\\lib\\asyncio\\base_events.py\", line 601, in run_forever\n    self._run_once()\n  File \"c:\\Users\\bobth\\anaconda3\\lib\\asyncio\\base_events.py\", line 1905, in _run_once\n    handle._run()\n  File \"c:\\Users\\bobth\\anaconda3\\lib\\asyncio\\events.py\", line 80, in _run\n    self._context.run(self._callback, *self._args)\n  File \"c:\\Users\\bobth\\anaconda3\\lib\\site-packages\\ipykernel\\kernelbase.py\", line 510, in dispatch_queue\n    await self.process_one()\n  File \"c:\\Users\\bobth\\anaconda3\\lib\\site-packages\\ipykernel\\kernelbase.py\", line 499, in process_one\n    await dispatch(*args)\n  File \"c:\\Users\\bobth\\anaconda3\\lib\\site-packages\\ipykernel\\kernelbase.py\", line 406, in dispatch_shell\n    await result\n  File \"c:\\Users\\bobth\\anaconda3\\lib\\site-packages\\ipykernel\\kernelbase.py\", line 730, in execute_request\n    reply_content = await reply_content\n  File \"c:\\Users\\bobth\\anaconda3\\lib\\site-packages\\ipykernel\\ipkernel.py\", line 390, in do_execute\n    res = shell.run_cell(code, store_history=store_history, silent=silent)\n  File \"c:\\Users\\bobth\\anaconda3\\lib\\site-packages\\ipykernel\\zmqshell.py\", line 528, in run_cell\n    return super().run_cell(*args, **kwargs)\n  File \"c:\\Users\\bobth\\anaconda3\\lib\\site-packages\\IPython\\core\\interactiveshell.py\", line 2914, in run_cell\n    result = self._run_cell(\n  File \"c:\\Users\\bobth\\anaconda3\\lib\\site-packages\\IPython\\core\\interactiveshell.py\", line 2960, in _run_cell\n    return runner(coro)\n  File \"c:\\Users\\bobth\\anaconda3\\lib\\site-packages\\IPython\\core\\async_helpers.py\", line 78, in _pseudo_sync_runner\n    coro.send(None)\n  File \"c:\\Users\\bobth\\anaconda3\\lib\\site-packages\\IPython\\core\\interactiveshell.py\", line 3185, in run_cell_async\n    has_raised = await self.run_ast_nodes(code_ast.body, cell_name,\n  File \"c:\\Users\\bobth\\anaconda3\\lib\\site-packages\\IPython\\core\\interactiveshell.py\", line 3377, in run_ast_nodes\n    if (await self.run_code(code, result,  async_=asy)):\n  File \"c:\\Users\\bobth\\anaconda3\\lib\\site-packages\\IPython\\core\\interactiveshell.py\", line 3457, in run_code\n    exec(code_obj, self.user_global_ns, self.user_ns)\n  File \"C:\\Users\\bobth\\AppData\\Local\\Temp\\ipykernel_7424\\864734964.py\", line 1, in <module>\n    import torch\n  File \"<frozen importlib._bootstrap>\", line 1007, in _find_and_load\n  File \"<frozen importlib._bootstrap>\", line 986, in _find_and_load_unlocked\n  File \"<frozen importlib._bootstrap>\", line 680, in _load_unlocked\n  File \"<frozen importlib._bootstrap_external>\", line 850, in exec_module\n  File \"<frozen importlib._bootstrap>\", line 228, in _call_with_frames_removed\n  File \"c:\\Users\\bobth\\anaconda3\\lib\\site-packages\\torch\\__init__.py\", line 1478, in <module>\n    _C._initExtension(manager_path())\n  File \"<frozen importlib._bootstrap>\", line 1007, in _find_and_load\n  File \"<frozen importlib._bootstrap>\", line 986, in _find_and_load_unlocked\n  File \"<frozen importlib._bootstrap>\", line 680, in _load_unlocked\n  File \"<frozen importlib._bootstrap_external>\", line 850, in exec_module\n  File \"<frozen importlib._bootstrap>\", line 228, in _call_with_frames_removed\n  File \"c:\\Users\\bobth\\anaconda3\\lib\\site-packages\\torch\\cuda\\__init__.py\", line 238, in <module>\n    _lazy_call(_check_capability)\n  File \"c:\\Users\\bobth\\anaconda3\\lib\\site-packages\\torch\\cuda\\__init__.py\", line 235, in _lazy_call\n    _queued_calls.append((callable, traceback.format_stack()))\n",
     "output_type": "error",
     "traceback": [
      "\u001b[1;31m---------------------------------------------------------------------------\u001b[0m",
      "\u001b[1;31mAttributeError\u001b[0m                            Traceback (most recent call last)",
      "\u001b[1;32mc:\\Users\\bobth\\anaconda3\\lib\\site-packages\\torch\\cuda\\__init__.py\u001b[0m in \u001b[0;36m_lazy_init\u001b[1;34m()\u001b[0m\n\u001b[0;32m    305\u001b[0m                 \u001b[1;32mtry\u001b[0m\u001b[1;33m:\u001b[0m\u001b[1;33m\u001b[0m\u001b[1;33m\u001b[0m\u001b[0m\n\u001b[1;32m--> 306\u001b[1;33m                     \u001b[0mqueued_call\u001b[0m\u001b[1;33m(\u001b[0m\u001b[1;33m)\u001b[0m\u001b[1;33m\u001b[0m\u001b[1;33m\u001b[0m\u001b[0m\n\u001b[0m\u001b[0;32m    307\u001b[0m                 \u001b[1;32mexcept\u001b[0m \u001b[0mException\u001b[0m \u001b[1;32mas\u001b[0m \u001b[0me\u001b[0m\u001b[1;33m:\u001b[0m\u001b[1;33m\u001b[0m\u001b[1;33m\u001b[0m\u001b[0m\n",
      "\u001b[1;32mc:\\Users\\bobth\\anaconda3\\lib\\site-packages\\torch\\cuda\\__init__.py\u001b[0m in \u001b[0;36m_check_capability\u001b[1;34m()\u001b[0m\n\u001b[0;32m    170\u001b[0m \u001b[1;33m\u001b[0m\u001b[0m\n\u001b[1;32m--> 171\u001b[1;33m     \u001b[1;32mif\u001b[0m \u001b[0mtorch\u001b[0m\u001b[1;33m.\u001b[0m\u001b[0mversion\u001b[0m\u001b[1;33m.\u001b[0m\u001b[0mcuda\u001b[0m \u001b[1;32mis\u001b[0m \u001b[1;32mnot\u001b[0m \u001b[1;32mNone\u001b[0m\u001b[1;33m:\u001b[0m  \u001b[1;31m# on ROCm we don't want this check\u001b[0m\u001b[1;33m\u001b[0m\u001b[1;33m\u001b[0m\u001b[0m\n\u001b[0m\u001b[0;32m    172\u001b[0m         \u001b[0mCUDA_VERSION\u001b[0m \u001b[1;33m=\u001b[0m \u001b[0mtorch\u001b[0m\u001b[1;33m.\u001b[0m\u001b[0m_C\u001b[0m\u001b[1;33m.\u001b[0m\u001b[0m_cuda_getCompiledVersion\u001b[0m\u001b[1;33m(\u001b[0m\u001b[1;33m)\u001b[0m\u001b[1;33m\u001b[0m\u001b[1;33m\u001b[0m\u001b[0m\n",
      "\u001b[1;32mc:\\Users\\bobth\\anaconda3\\lib\\site-packages\\torch\\__init__.py\u001b[0m in \u001b[0;36m__getattr__\u001b[1;34m(name)\u001b[0m\n\u001b[0;32m   2002\u001b[0m \u001b[1;33m\u001b[0m\u001b[0m\n\u001b[1;32m-> 2003\u001b[1;33m         \u001b[1;32mraise\u001b[0m \u001b[0mAttributeError\u001b[0m\u001b[1;33m(\u001b[0m\u001b[1;34mf\"module '{__name__}' has no attribute '{name}'\"\u001b[0m\u001b[1;33m)\u001b[0m\u001b[1;33m\u001b[0m\u001b[1;33m\u001b[0m\u001b[0m\n\u001b[0m\u001b[0;32m   2004\u001b[0m \u001b[1;33m\u001b[0m\u001b[0m\n",
      "\u001b[1;31mAttributeError\u001b[0m: module 'torch' has no attribute 'version'",
      "\nThe above exception was the direct cause of the following exception:\n",
      "\u001b[1;31mDeferredCudaCallError\u001b[0m                     Traceback (most recent call last)",
      "\u001b[1;32m~\\AppData\\Local\\Temp\\ipykernel_7424\\1297828152.py\u001b[0m in \u001b[0;36m<module>\u001b[1;34m\u001b[0m\n\u001b[0;32m      4\u001b[0m \u001b[0mdevice\u001b[0m \u001b[1;33m=\u001b[0m \u001b[1;34m'cuda'\u001b[0m\u001b[1;33m\u001b[0m\u001b[1;33m\u001b[0m\u001b[0m\n\u001b[0;32m      5\u001b[0m \u001b[0mprint\u001b[0m\u001b[1;33m(\u001b[0m\u001b[0mtorch\u001b[0m\u001b[1;33m.\u001b[0m\u001b[0m__version__\u001b[0m\u001b[1;33m)\u001b[0m\u001b[1;33m\u001b[0m\u001b[1;33m\u001b[0m\u001b[0m\n\u001b[1;32m----> 6\u001b[1;33m \u001b[0mmodel\u001b[0m\u001b[1;33m.\u001b[0m\u001b[0mto\u001b[0m\u001b[1;33m(\u001b[0m\u001b[0mdevice\u001b[0m\u001b[1;33m)\u001b[0m\u001b[1;33m\u001b[0m\u001b[1;33m\u001b[0m\u001b[0m\n\u001b[0m\u001b[0;32m      7\u001b[0m \u001b[1;33m\u001b[0m\u001b[0m\n\u001b[0;32m      8\u001b[0m \u001b[1;31m# hyper parameters\u001b[0m\u001b[1;33m\u001b[0m\u001b[1;33m\u001b[0m\u001b[0m\n",
      "\u001b[1;32mc:\\Users\\bobth\\anaconda3\\lib\\site-packages\\torch\\nn\\modules\\module.py\u001b[0m in \u001b[0;36mto\u001b[1;34m(self, *args, **kwargs)\u001b[0m\n\u001b[0;32m   1171\u001b[0m                     \u001b[1;32mraise\u001b[0m\u001b[1;33m\u001b[0m\u001b[1;33m\u001b[0m\u001b[0m\n\u001b[0;32m   1172\u001b[0m \u001b[1;33m\u001b[0m\u001b[0m\n\u001b[1;32m-> 1173\u001b[1;33m         \u001b[1;32mreturn\u001b[0m \u001b[0mself\u001b[0m\u001b[1;33m.\u001b[0m\u001b[0m_apply\u001b[0m\u001b[1;33m(\u001b[0m\u001b[0mconvert\u001b[0m\u001b[1;33m)\u001b[0m\u001b[1;33m\u001b[0m\u001b[1;33m\u001b[0m\u001b[0m\n\u001b[0m\u001b[0;32m   1174\u001b[0m \u001b[1;33m\u001b[0m\u001b[0m\n\u001b[0;32m   1175\u001b[0m     def register_full_backward_pre_hook(\n",
      "\u001b[1;32mc:\\Users\\bobth\\anaconda3\\lib\\site-packages\\torch\\nn\\modules\\module.py\u001b[0m in \u001b[0;36m_apply\u001b[1;34m(self, fn, recurse)\u001b[0m\n\u001b[0;32m    777\u001b[0m         \u001b[1;32mif\u001b[0m \u001b[0mrecurse\u001b[0m\u001b[1;33m:\u001b[0m\u001b[1;33m\u001b[0m\u001b[1;33m\u001b[0m\u001b[0m\n\u001b[0;32m    778\u001b[0m             \u001b[1;32mfor\u001b[0m \u001b[0mmodule\u001b[0m \u001b[1;32min\u001b[0m \u001b[0mself\u001b[0m\u001b[1;33m.\u001b[0m\u001b[0mchildren\u001b[0m\u001b[1;33m(\u001b[0m\u001b[1;33m)\u001b[0m\u001b[1;33m:\u001b[0m\u001b[1;33m\u001b[0m\u001b[1;33m\u001b[0m\u001b[0m\n\u001b[1;32m--> 779\u001b[1;33m                 \u001b[0mmodule\u001b[0m\u001b[1;33m.\u001b[0m\u001b[0m_apply\u001b[0m\u001b[1;33m(\u001b[0m\u001b[0mfn\u001b[0m\u001b[1;33m)\u001b[0m\u001b[1;33m\u001b[0m\u001b[1;33m\u001b[0m\u001b[0m\n\u001b[0m\u001b[0;32m    780\u001b[0m \u001b[1;33m\u001b[0m\u001b[0m\n\u001b[0;32m    781\u001b[0m         \u001b[1;32mdef\u001b[0m \u001b[0mcompute_should_use_set_data\u001b[0m\u001b[1;33m(\u001b[0m\u001b[0mtensor\u001b[0m\u001b[1;33m,\u001b[0m \u001b[0mtensor_applied\u001b[0m\u001b[1;33m)\u001b[0m\u001b[1;33m:\u001b[0m\u001b[1;33m\u001b[0m\u001b[1;33m\u001b[0m\u001b[0m\n",
      "\u001b[1;32mc:\\Users\\bobth\\anaconda3\\lib\\site-packages\\torch\\nn\\modules\\module.py\u001b[0m in \u001b[0;36m_apply\u001b[1;34m(self, fn, recurse)\u001b[0m\n\u001b[0;32m    802\u001b[0m             \u001b[1;31m# `with torch.no_grad():`\u001b[0m\u001b[1;33m\u001b[0m\u001b[1;33m\u001b[0m\u001b[0m\n\u001b[0;32m    803\u001b[0m             \u001b[1;32mwith\u001b[0m \u001b[0mtorch\u001b[0m\u001b[1;33m.\u001b[0m\u001b[0mno_grad\u001b[0m\u001b[1;33m(\u001b[0m\u001b[1;33m)\u001b[0m\u001b[1;33m:\u001b[0m\u001b[1;33m\u001b[0m\u001b[1;33m\u001b[0m\u001b[0m\n\u001b[1;32m--> 804\u001b[1;33m                 \u001b[0mparam_applied\u001b[0m \u001b[1;33m=\u001b[0m \u001b[0mfn\u001b[0m\u001b[1;33m(\u001b[0m\u001b[0mparam\u001b[0m\u001b[1;33m)\u001b[0m\u001b[1;33m\u001b[0m\u001b[1;33m\u001b[0m\u001b[0m\n\u001b[0m\u001b[0;32m    805\u001b[0m             \u001b[0mp_should_use_set_data\u001b[0m \u001b[1;33m=\u001b[0m \u001b[0mcompute_should_use_set_data\u001b[0m\u001b[1;33m(\u001b[0m\u001b[0mparam\u001b[0m\u001b[1;33m,\u001b[0m \u001b[0mparam_applied\u001b[0m\u001b[1;33m)\u001b[0m\u001b[1;33m\u001b[0m\u001b[1;33m\u001b[0m\u001b[0m\n\u001b[0;32m    806\u001b[0m \u001b[1;33m\u001b[0m\u001b[0m\n",
      "\u001b[1;32mc:\\Users\\bobth\\anaconda3\\lib\\site-packages\\torch\\nn\\modules\\module.py\u001b[0m in \u001b[0;36mconvert\u001b[1;34m(t)\u001b[0m\n\u001b[0;32m   1157\u001b[0m                         \u001b[0mmemory_format\u001b[0m\u001b[1;33m=\u001b[0m\u001b[0mconvert_to_format\u001b[0m\u001b[1;33m,\u001b[0m\u001b[1;33m\u001b[0m\u001b[1;33m\u001b[0m\u001b[0m\n\u001b[0;32m   1158\u001b[0m                     )\n\u001b[1;32m-> 1159\u001b[1;33m                 return t.to(\n\u001b[0m\u001b[0;32m   1160\u001b[0m                     \u001b[0mdevice\u001b[0m\u001b[1;33m,\u001b[0m\u001b[1;33m\u001b[0m\u001b[1;33m\u001b[0m\u001b[0m\n\u001b[0;32m   1161\u001b[0m                     \u001b[0mdtype\u001b[0m \u001b[1;32mif\u001b[0m \u001b[0mt\u001b[0m\u001b[1;33m.\u001b[0m\u001b[0mis_floating_point\u001b[0m\u001b[1;33m(\u001b[0m\u001b[1;33m)\u001b[0m \u001b[1;32mor\u001b[0m \u001b[0mt\u001b[0m\u001b[1;33m.\u001b[0m\u001b[0mis_complex\u001b[0m\u001b[1;33m(\u001b[0m\u001b[1;33m)\u001b[0m \u001b[1;32melse\u001b[0m \u001b[1;32mNone\u001b[0m\u001b[1;33m,\u001b[0m\u001b[1;33m\u001b[0m\u001b[1;33m\u001b[0m\u001b[0m\n",
      "\u001b[1;32mc:\\Users\\bobth\\anaconda3\\lib\\site-packages\\torch\\cuda\\__init__.py\u001b[0m in \u001b[0;36m_lazy_init\u001b[1;34m()\u001b[0m\n\u001b[0;32m    310\u001b[0m                         \u001b[1;34mf\"CUDA call was originally invoked at:\\n\\n{''.join(orig_traceback)}\"\u001b[0m\u001b[1;33m\u001b[0m\u001b[1;33m\u001b[0m\u001b[0m\n\u001b[0;32m    311\u001b[0m                     )\n\u001b[1;32m--> 312\u001b[1;33m                     \u001b[1;32mraise\u001b[0m \u001b[0mDeferredCudaCallError\u001b[0m\u001b[1;33m(\u001b[0m\u001b[0mmsg\u001b[0m\u001b[1;33m)\u001b[0m \u001b[1;32mfrom\u001b[0m \u001b[0me\u001b[0m\u001b[1;33m\u001b[0m\u001b[1;33m\u001b[0m\u001b[0m\n\u001b[0m\u001b[0;32m    313\u001b[0m         \u001b[1;32mfinally\u001b[0m\u001b[1;33m:\u001b[0m\u001b[1;33m\u001b[0m\u001b[1;33m\u001b[0m\u001b[0m\n\u001b[0;32m    314\u001b[0m             \u001b[0mdelattr\u001b[0m\u001b[1;33m(\u001b[0m\u001b[0m_tls\u001b[0m\u001b[1;33m,\u001b[0m \u001b[1;34m\"is_initializing\"\u001b[0m\u001b[1;33m)\u001b[0m\u001b[1;33m\u001b[0m\u001b[1;33m\u001b[0m\u001b[0m\n",
      "\u001b[1;31mDeferredCudaCallError\u001b[0m: CUDA call failed lazily at initialization with error: module 'torch' has no attribute 'version'\n\nCUDA call was originally invoked at:\n\n  File \"c:\\Users\\bobth\\anaconda3\\lib\\runpy.py\", line 197, in _run_module_as_main\n    return _run_code(code, main_globals, None,\n  File \"c:\\Users\\bobth\\anaconda3\\lib\\runpy.py\", line 87, in _run_code\n    exec(code, run_globals)\n  File \"c:\\Users\\bobth\\anaconda3\\lib\\site-packages\\ipykernel_launcher.py\", line 17, in <module>\n    app.launch_new_instance()\n  File \"c:\\Users\\bobth\\anaconda3\\lib\\site-packages\\traitlets\\config\\application.py\", line 846, in launch_instance\n    app.start()\n  File \"c:\\Users\\bobth\\anaconda3\\lib\\site-packages\\ipykernel\\kernelapp.py\", line 712, in start\n    self.io_loop.start()\n  File \"c:\\Users\\bobth\\anaconda3\\lib\\site-packages\\tornado\\platform\\asyncio.py\", line 199, in start\n    self.asyncio_loop.run_forever()\n  File \"c:\\Users\\bobth\\anaconda3\\lib\\asyncio\\base_events.py\", line 601, in run_forever\n    self._run_once()\n  File \"c:\\Users\\bobth\\anaconda3\\lib\\asyncio\\base_events.py\", line 1905, in _run_once\n    handle._run()\n  File \"c:\\Users\\bobth\\anaconda3\\lib\\asyncio\\events.py\", line 80, in _run\n    self._context.run(self._callback, *self._args)\n  File \"c:\\Users\\bobth\\anaconda3\\lib\\site-packages\\ipykernel\\kernelbase.py\", line 510, in dispatch_queue\n    await self.process_one()\n  File \"c:\\Users\\bobth\\anaconda3\\lib\\site-packages\\ipykernel\\kernelbase.py\", line 499, in process_one\n    await dispatch(*args)\n  File \"c:\\Users\\bobth\\anaconda3\\lib\\site-packages\\ipykernel\\kernelbase.py\", line 406, in dispatch_shell\n    await result\n  File \"c:\\Users\\bobth\\anaconda3\\lib\\site-packages\\ipykernel\\kernelbase.py\", line 730, in execute_request\n    reply_content = await reply_content\n  File \"c:\\Users\\bobth\\anaconda3\\lib\\site-packages\\ipykernel\\ipkernel.py\", line 390, in do_execute\n    res = shell.run_cell(code, store_history=store_history, silent=silent)\n  File \"c:\\Users\\bobth\\anaconda3\\lib\\site-packages\\ipykernel\\zmqshell.py\", line 528, in run_cell\n    return super().run_cell(*args, **kwargs)\n  File \"c:\\Users\\bobth\\anaconda3\\lib\\site-packages\\IPython\\core\\interactiveshell.py\", line 2914, in run_cell\n    result = self._run_cell(\n  File \"c:\\Users\\bobth\\anaconda3\\lib\\site-packages\\IPython\\core\\interactiveshell.py\", line 2960, in _run_cell\n    return runner(coro)\n  File \"c:\\Users\\bobth\\anaconda3\\lib\\site-packages\\IPython\\core\\async_helpers.py\", line 78, in _pseudo_sync_runner\n    coro.send(None)\n  File \"c:\\Users\\bobth\\anaconda3\\lib\\site-packages\\IPython\\core\\interactiveshell.py\", line 3185, in run_cell_async\n    has_raised = await self.run_ast_nodes(code_ast.body, cell_name,\n  File \"c:\\Users\\bobth\\anaconda3\\lib\\site-packages\\IPython\\core\\interactiveshell.py\", line 3377, in run_ast_nodes\n    if (await self.run_code(code, result,  async_=asy)):\n  File \"c:\\Users\\bobth\\anaconda3\\lib\\site-packages\\IPython\\core\\interactiveshell.py\", line 3457, in run_code\n    exec(code_obj, self.user_global_ns, self.user_ns)\n  File \"C:\\Users\\bobth\\AppData\\Local\\Temp\\ipykernel_7424\\864734964.py\", line 1, in <module>\n    import torch\n  File \"<frozen importlib._bootstrap>\", line 1007, in _find_and_load\n  File \"<frozen importlib._bootstrap>\", line 986, in _find_and_load_unlocked\n  File \"<frozen importlib._bootstrap>\", line 680, in _load_unlocked\n  File \"<frozen importlib._bootstrap_external>\", line 850, in exec_module\n  File \"<frozen importlib._bootstrap>\", line 228, in _call_with_frames_removed\n  File \"c:\\Users\\bobth\\anaconda3\\lib\\site-packages\\torch\\__init__.py\", line 1478, in <module>\n    _C._initExtension(manager_path())\n  File \"<frozen importlib._bootstrap>\", line 1007, in _find_and_load\n  File \"<frozen importlib._bootstrap>\", line 986, in _find_and_load_unlocked\n  File \"<frozen importlib._bootstrap>\", line 680, in _load_unlocked\n  File \"<frozen importlib._bootstrap_external>\", line 850, in exec_module\n  File \"<frozen importlib._bootstrap>\", line 228, in _call_with_frames_removed\n  File \"c:\\Users\\bobth\\anaconda3\\lib\\site-packages\\torch\\cuda\\__init__.py\", line 238, in <module>\n    _lazy_call(_check_capability)\n  File \"c:\\Users\\bobth\\anaconda3\\lib\\site-packages\\torch\\cuda\\__init__.py\", line 235, in _lazy_call\n    _queued_calls.append((callable, traceback.format_stack()))\n"
     ]
    }
   ],
   "source": [
    "# model\n",
    "model = FNN(X_train_tensor.shape[1], y.value_counts().shape[0])\n",
    "print(X_train_tensor.shape[1], y.value_counts().shape[0])\n",
    "device = 'cuda'\n",
    "print(torch.__version__)\n",
    "model.to(device)   \n",
    "\n",
    "# hyper parameters\n",
    "criterion = nn.CrossEntropyLoss()\n",
    "optimizer = optim.Adam(model.parameters(), lr=0.001)\n",
    "epochs = 100\n"
   ]
  },
  {
   "cell_type": "code",
   "execution_count": null,
   "metadata": {},
   "outputs": [
    {
     "name": "stdout",
     "output_type": "stream",
     "text": [
      "Epoch [1/100], Loss: 1.363842248916626\n",
      "Epoch [2/100], Loss: 1.3598623275756836\n",
      "Epoch [3/100], Loss: 1.3557498455047607\n",
      "Epoch [4/100], Loss: 1.3516643047332764\n",
      "Epoch [5/100], Loss: 1.3476084470748901\n",
      "Epoch [6/100], Loss: 1.3435776233673096\n",
      "Epoch [7/100], Loss: 1.3395769596099854\n",
      "Epoch [8/100], Loss: 1.3356046676635742\n",
      "Epoch [9/100], Loss: 1.3316713571548462\n",
      "Epoch [10/100], Loss: 1.3277736902236938\n",
      "Epoch [11/100], Loss: 1.3239063024520874\n",
      "Epoch [12/100], Loss: 1.3200697898864746\n",
      "Epoch [13/100], Loss: 1.3162603378295898\n",
      "Epoch [14/100], Loss: 1.312514066696167\n",
      "Epoch [15/100], Loss: 1.3088107109069824\n",
      "Epoch [16/100], Loss: 1.305137276649475\n",
      "Epoch [17/100], Loss: 1.3014858961105347\n",
      "Epoch [18/100], Loss: 1.2978638410568237\n",
      "Epoch [19/100], Loss: 1.2942626476287842\n",
      "Epoch [20/100], Loss: 1.2906603813171387\n",
      "Epoch [21/100], Loss: 1.287085771560669\n",
      "Epoch [22/100], Loss: 1.2835372686386108\n",
      "Epoch [23/100], Loss: 1.2800122499465942\n",
      "Epoch [24/100], Loss: 1.2765142917633057\n",
      "Epoch [25/100], Loss: 1.2730375528335571\n",
      "Epoch [26/100], Loss: 1.2695937156677246\n",
      "Epoch [27/100], Loss: 1.2661792039871216\n",
      "Epoch [28/100], Loss: 1.2628059387207031\n",
      "Epoch [29/100], Loss: 1.2594774961471558\n",
      "Epoch [30/100], Loss: 1.2561715841293335\n",
      "Epoch [31/100], Loss: 1.2529277801513672\n",
      "Epoch [32/100], Loss: 1.2497984170913696\n",
      "Epoch [33/100], Loss: 1.2467024326324463\n",
      "Epoch [34/100], Loss: 1.2436532974243164\n",
      "Epoch [35/100], Loss: 1.2406153678894043\n",
      "Epoch [36/100], Loss: 1.2375658750534058\n",
      "Epoch [37/100], Loss: 1.2345231771469116\n",
      "Epoch [38/100], Loss: 1.2315318584442139\n",
      "Epoch [39/100], Loss: 1.2285786867141724\n",
      "Epoch [40/100], Loss: 1.2257490158081055\n",
      "Epoch [41/100], Loss: 1.2230503559112549\n",
      "Epoch [42/100], Loss: 1.220368504524231\n",
      "Epoch [43/100], Loss: 1.2177053689956665\n",
      "Epoch [44/100], Loss: 1.2150837182998657\n",
      "Epoch [45/100], Loss: 1.2124848365783691\n",
      "Epoch [46/100], Loss: 1.2098875045776367\n",
      "Epoch [47/100], Loss: 1.207309603691101\n",
      "Epoch [48/100], Loss: 1.2047431468963623\n",
      "Epoch [49/100], Loss: 1.20219087600708\n",
      "Epoch [50/100], Loss: 1.1996897459030151\n",
      "Epoch [51/100], Loss: 1.1972661018371582\n",
      "Epoch [52/100], Loss: 1.1949212551116943\n",
      "Epoch [53/100], Loss: 1.1925941705703735\n",
      "Epoch [54/100], Loss: 1.1902889013290405\n",
      "Epoch [55/100], Loss: 1.1881487369537354\n",
      "Epoch [56/100], Loss: 1.186355710029602\n",
      "Epoch [57/100], Loss: 1.1845762729644775\n",
      "Epoch [58/100], Loss: 1.18281090259552\n",
      "Epoch [59/100], Loss: 1.1810709238052368\n",
      "Epoch [60/100], Loss: 1.1793864965438843\n",
      "Epoch [61/100], Loss: 1.1776968240737915\n",
      "Epoch [62/100], Loss: 1.1760141849517822\n",
      "Epoch [63/100], Loss: 1.1743435859680176\n",
      "Epoch [64/100], Loss: 1.172619342803955\n",
      "Epoch [65/100], Loss: 1.1709010601043701\n",
      "Epoch [66/100], Loss: 1.1691880226135254\n",
      "Epoch [67/100], Loss: 1.167472004890442\n",
      "Epoch [68/100], Loss: 1.16575288772583\n",
      "Epoch [69/100], Loss: 1.1640303134918213\n",
      "Epoch [70/100], Loss: 1.1623077392578125\n",
      "Epoch [71/100], Loss: 1.1605935096740723\n",
      "Epoch [72/100], Loss: 1.158871054649353\n",
      "Epoch [73/100], Loss: 1.1571309566497803\n",
      "Epoch [74/100], Loss: 1.1553740501403809\n",
      "Epoch [75/100], Loss: 1.1536865234375\n",
      "Epoch [76/100], Loss: 1.1519948244094849\n",
      "Epoch [77/100], Loss: 1.150295615196228\n",
      "Epoch [78/100], Loss: 1.1485931873321533\n",
      "Epoch [79/100], Loss: 1.1468921899795532\n",
      "Epoch [80/100], Loss: 1.1451860666275024\n",
      "Epoch [81/100], Loss: 1.1434721946716309\n",
      "Epoch [82/100], Loss: 1.1417498588562012\n",
      "Epoch [83/100], Loss: 1.1400192975997925\n",
      "Epoch [84/100], Loss: 1.1382778882980347\n",
      "Epoch [85/100], Loss: 1.13652765750885\n",
      "Epoch [86/100], Loss: 1.1347700357437134\n",
      "Epoch [87/100], Loss: 1.1330033540725708\n",
      "Epoch [88/100], Loss: 1.131227731704712\n",
      "Epoch [89/100], Loss: 1.1294430494308472\n",
      "Epoch [90/100], Loss: 1.127650499343872\n",
      "Epoch [91/100], Loss: 1.1258503198623657\n",
      "Epoch [92/100], Loss: 1.1240423917770386\n",
      "Epoch [93/100], Loss: 1.12222421169281\n",
      "Epoch [94/100], Loss: 1.1203954219818115\n",
      "Epoch [95/100], Loss: 1.1185576915740967\n",
      "Epoch [96/100], Loss: 1.1167116165161133\n",
      "Epoch [97/100], Loss: 1.114859700202942\n",
      "Epoch [98/100], Loss: 1.1129999160766602\n",
      "Epoch [99/100], Loss: 1.1111128330230713\n",
      "Epoch [100/100], Loss: 1.1091896295547485\n"
     ]
    }
   ],
   "source": [
    "from sklearn.metrics import accuracy_score\n",
    "\n",
    "\n",
    "for epoch in range(epochs):\n",
    "    inputs, targets = X_train_tensor.to(device), y_train_tensor.to(device)\n",
    "    optimizer.zero_grad()  # Zero the gradients\n",
    "    outputs = model(inputs)  # Forward pass\n",
    "    loss = criterion(outputs, targets)  # Compute the loss\n",
    "    loss.backward()  # Backward pass (compute gradients)\n",
    "    optimizer.step()  # Update the weights\n",
    "\n",
    "    \n",
    "    print(f'Epoch [{epoch+1}/{epochs}], Loss: {loss.item()}')\n",
    "\n"
   ]
  },
  {
   "cell_type": "code",
   "execution_count": null,
   "metadata": {},
   "outputs": [
    {
     "name": "stdout",
     "output_type": "stream",
     "text": [
      "Test Accuracy: 0.6515151515151515\n"
     ]
    }
   ],
   "source": [
    "# Evaluation on test data\n",
    "\n",
    "model.eval()\n",
    "with torch.no_grad():\n",
    "    inputs, targets = X_test_tensor.to(device), y_test_tensor.to(device)\n",
    "    outputs = model(inputs)\n",
    "    _, predicted = torch.max(outputs, 1)\n",
    "    accuracy = accuracy_score(predicted.cpu(), targets.cpu())\n",
    "    \n",
    "    print(f'Test Accuracy: {accuracy}')"
   ]
  }
 ],
 "metadata": {
  "kernelspec": {
   "display_name": "base",
   "language": "python",
   "name": "python3"
  },
  "language_info": {
   "codemirror_mode": {
    "name": "ipython",
    "version": 3
   },
   "file_extension": ".py",
   "mimetype": "text/x-python",
   "name": "python",
   "nbconvert_exporter": "python",
   "pygments_lexer": "ipython3",
   "version": "3.9.13"
  }
 },
 "nbformat": 4,
 "nbformat_minor": 2
}
