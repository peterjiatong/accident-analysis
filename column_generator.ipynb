{
 "cells": [
  {
   "cell_type": "code",
   "execution_count": 2,
   "metadata": {},
   "outputs": [],
   "source": [
    "import pandas as pd\n",
    "import numpy as np\n"
   ]
  },
  {
   "cell_type": "markdown",
   "metadata": {},
   "source": [
    "#### Reading data"
   ]
  },
  {
   "cell_type": "code",
   "execution_count": 3,
   "metadata": {},
   "outputs": [],
   "source": [
    "CA_data = pd.read_csv('CA_data.csv')"
   ]
  },
  {
   "cell_type": "code",
   "execution_count": 4,
   "metadata": {},
   "outputs": [
    {
     "name": "stdout",
     "output_type": "stream",
     "text": [
      "<class 'pandas.core.frame.DataFrame'>\n",
      "RangeIndex: 379 entries, 0 to 378\n",
      "Data columns (total 81 columns):\n",
      " #   Column                                          Non-Null Count  Dtype  \n",
      "---  ------                                          --------------  -----  \n",
      " 0   File ID                                         379 non-null    object \n",
      " 1   Vehicle 1 Manufacturer                          379 non-null    object \n",
      " 2   Vehicle 1 Business Name                         379 non-null    object \n",
      " 3   Date                                            379 non-null    object \n",
      " 4   Time                                            379 non-null    object \n",
      " 5   Vehicle 1 Year of Manufacturing                 379 non-null    int64  \n",
      " 6   Vehicle 1 Make                                  379 non-null    object \n",
      " 7   Vehicle 1 Model                                 379 non-null    object \n",
      " 8   Location of Accident                            379 non-null    object \n",
      " 9   City of Accident                                377 non-null    object \n",
      " 10  County of Accident                              377 non-null    object \n",
      " 11  State of Accident                               379 non-null    object \n",
      " 12  ZIPCODE of Accident                             378 non-null    object \n",
      " 13  Vehicle 1 was Moving                            379 non-null    object \n",
      " 14  Vehicle 1 was Stopped in Traffic                379 non-null    object \n",
      " 15  Pedestrian Involved in Accident (w V1)          379 non-null    object \n",
      " 16  Bicyclist involved in Accident (w V1)           379 non-null    object \n",
      " 17  Any other involved entity (w V1)                379 non-null    object \n",
      " 18  Number of Vehicles involved in Accident (w V1)  374 non-null    float64\n",
      " 19  Vehicle Damage                                  324 non-null    object \n",
      " 20  RB                                              373 non-null    object \n",
      " 21  LR1                                             373 non-null    object \n",
      " 22  LR2                                             373 non-null    object \n",
      " 23  LR3                                             373 non-null    object \n",
      " 24  RR1                                             373 non-null    object \n",
      " 25  RR2                                             373 non-null    object \n",
      " 26  RR3                                             373 non-null    object \n",
      " 27  LRP1                                            373 non-null    object \n",
      " 28  LRP2                                            373 non-null    object \n",
      " 29  LRP3                                            373 non-null    object \n",
      " 30  LRP4                                            373 non-null    object \n",
      " 31  RRP1                                            373 non-null    object \n",
      " 32  RRP2                                            373 non-null    object \n",
      " 33  RRP3                                            373 non-null    object \n",
      " 34  RRP4                                            373 non-null    object \n",
      " 35  FDS1                                            373 non-null    object \n",
      " 36  FDS2                                            373 non-null    object \n",
      " 37  FDS3                                            373 non-null    object \n",
      " 38  FDS4                                            373 non-null    object \n",
      " 39  FPS1                                            373 non-null    object \n",
      " 40  FPS2                                            373 non-null    object \n",
      " 41  FPS3                                            373 non-null    object \n",
      " 42  FPS4                                            373 non-null    object \n",
      " 43  LFC1                                            373 non-null    object \n",
      " 44  LFC2                                            373 non-null    object \n",
      " 45  LFC3                                            373 non-null    object \n",
      " 46  RFC1                                            373 non-null    object \n",
      " 47  RFC2                                            373 non-null    object \n",
      " 48  RFC3                                            373 non-null    object \n",
      " 49  FB                                              373 non-null    object \n",
      " 50  Vehicle 2 Model                                 373 non-null    object \n",
      " 51  Vehicle 2 Year of Manufacturing                 373 non-null    object \n",
      " 52  Vehicle 2 was Moving                            373 non-null    object \n",
      " 53  Vehicle 2 was Stopped in Traffic                373 non-null    object \n",
      " 54  Pedestrian Involved in Accident (w V2)          373 non-null    object \n",
      " 55  Bicyclist involved in Accident (w V2)           373 non-null    object \n",
      " 56  Any other involved entity (w V2)                373 non-null    object \n",
      " 57  Property Damage                                 373 non-null    object \n",
      " 58  Property Owner's Details                        373 non-null    object \n",
      " 59  Number of Vehicles involved in Accident (w V2)  372 non-null    object \n",
      " 60  Car Mode                                        373 non-null    object \n",
      " 61  Description                                     379 non-null    object \n",
      " 62  Weather Vehicle 1                               325 non-null    object \n",
      " 63  Weather Vehicle 2                               325 non-null    object \n",
      " 64  Lighting Vehicle 1                              325 non-null    object \n",
      " 65  Lighting Vehicle 2                              325 non-null    object \n",
      " 66  Roadway Surface Vehicle 1                       325 non-null    object \n",
      " 67  Roadway Surface Vehicle 2                       325 non-null    object \n",
      " 68  Roadway Conditions Vehicle 1                    325 non-null    object \n",
      " 69  Roadway Conditions Vehicle 2                    323 non-null    object \n",
      " 70  Movement Preceding Collision Vehicle 1          323 non-null    object \n",
      " 71  Movement Preceding Collision Vehicle 2          323 non-null    object \n",
      " 72  Type of Collison Vehicle 1                      325 non-null    object \n",
      " 73  Type of Collison Vehicle 2                      325 non-null    object \n",
      " 74  Other Factors                                   325 non-null    object \n",
      " 75  Lat1                                            95 non-null     object \n",
      " 76  Lng1                                            94 non-null     float64\n",
      " 77  Lat2                                            94 non-null     float64\n",
      " 78  Lng2                                            94 non-null     float64\n",
      " 79  Lat3                                            94 non-null     float64\n",
      " 80  Lng3                                            94 non-null     float64\n",
      "dtypes: float64(6), int64(1), object(74)\n",
      "memory usage: 240.0+ KB\n"
     ]
    }
   ],
   "source": [
    "CA_data.info()"
   ]
  }
 ],
 "metadata": {
  "kernelspec": {
   "display_name": "base",
   "language": "python",
   "name": "python3"
  },
  "language_info": {
   "codemirror_mode": {
    "name": "ipython",
    "version": 3
   },
   "file_extension": ".py",
   "mimetype": "text/x-python",
   "name": "python",
   "nbconvert_exporter": "python",
   "pygments_lexer": "ipython3",
   "version": "3.11.5"
  }
 },
 "nbformat": 4,
 "nbformat_minor": 2
}
