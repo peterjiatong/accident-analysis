{
 "cells": [
  {
   "cell_type": "code",
   "execution_count": 1,
   "metadata": {},
   "outputs": [],
   "source": [
    "import pandas as pd\n",
    "import numpy as np\n"
   ]
  },
  {
   "cell_type": "markdown",
   "metadata": {},
   "source": [
    "#### Reading data"
   ]
  },
  {
   "cell_type": "code",
   "execution_count": 2,
   "metadata": {},
   "outputs": [],
   "source": [
    "CA_data = pd.read_csv('CA_data.csv')\n",
    "\n",
    "columns = ['Weather Vehicle 1', 'Lighting Vehicle 1', 'Roadway Surface Vehicle 1', \n",
    "           'Movement Preceding Collision Vehicle 1','Vehicle 1 was Stopped in Traffic', \n",
    "           'Vehicle 1 was Moving','Number of Vehicles involved in Accident (w V1)']\n",
    "\n"
   ]
  },
  {
   "cell_type": "markdown",
   "metadata": {},
   "source": [
    "### Preprocess Data"
   ]
  },
  {
   "cell_type": "code",
   "execution_count": 3,
   "metadata": {},
   "outputs": [
    {
     "name": "stdout",
     "output_type": "stream",
     "text": [
      "\n",
      "\n",
      "\n",
      "\n",
      "\n",
      "\n",
      "\n",
      "\n",
      "\n",
      "\n",
      "\n",
      "\n",
      "\n",
      "\n"
     ]
    }
   ],
   "source": [
    "# dropping columns with null data\n",
    "for col in columns:\n",
    "    print(\"\\n\")\n",
    "    CA_data.drop(CA_data[CA_data[col] == 'Not Available'].index, inplace=True)\n",
    "    \n",
    "\n"
   ]
  },
  {
   "cell_type": "markdown",
   "metadata": {},
   "source": [
    "### Grouping data\n",
    "\n"
   ]
  },
  {
   "cell_type": "markdown",
   "metadata": {},
   "source": [
    "#### Column Weather Vehicle 1\n",
    "We are grouping Fog/visiblity with Dark because they are visual impariements\\\n",
    "We are grouping slippery, wind with raining because when it rains, it usally reults in slipperiness and sometimes wind\\"
   ]
  },
  {
   "cell_type": "code",
   "execution_count": 4,
   "metadata": {},
   "outputs": [
    {
     "name": "stdout",
     "output_type": "stream",
     "text": [
      "Weather Vehicle 1\n",
      "Clear                  263\n",
      "Cloudy                  29\n",
      "Raining                 14\n",
      "Fog/Visibility/Dark      4\n",
      "Name: count, dtype: int64\n"
     ]
    }
   ],
   "source": [
    "# grouping less frequent data \n",
    "CA_data['Weather Vehicle 1'].replace(['Fog/Visibility', 'Dark'], 'Fog/Visibility/Dark', inplace=True)\n",
    "CA_data['Weather Vehicle 1'].replace(['Slippery', 'Wind'], 'Raining', inplace=True)\n",
    "\n",
    "print(CA_data['Weather Vehicle 1'].value_counts())"
   ]
  },
  {
   "cell_type": "markdown",
   "metadata": {},
   "source": [
    "#### Lighting Vehicle 1\n",
    "Grouping no unusla condition and daylight b/c they basically the same\\\n",
    "Grouping Dusk/dawn with dark with street lights b/c they are relatively similar conditions\\"
   ]
  },
  {
   "cell_type": "code",
   "execution_count": 5,
   "metadata": {},
   "outputs": [
    {
     "name": "stdout",
     "output_type": "stream",
     "text": [
      "Lighting Vehicle 1\n",
      "Daylight                                225\n",
      "Dark w Street-lights                     81\n",
      "No unusual conditions                     2\n",
      "Dark w Non-functioning Street-lights      2\n",
      "Name: count, dtype: int64\n"
     ]
    }
   ],
   "source": [
    "CA_data['Lighting Vehicle 1'].replace(['No unusual condition'], 'Daylight', inplace=True)\n",
    "CA_data['Lighting Vehicle 1'].replace(['Dusk/Dawn'], 'Dark w Street-lights', inplace=True)\n",
    "\n",
    "\n",
    "print(CA_data['Lighting Vehicle 1'].value_counts())"
   ]
  },
  {
   "cell_type": "markdown",
   "metadata": {},
   "source": [
    "#### Movement Preceding Collision Vehicle 1\n",
    "Wet roads = slippery roads\\\n",
    "Dropped other and proceeding straight b/c they dont provide much value\\"
   ]
  },
  {
   "cell_type": "code",
   "execution_count": 6,
   "metadata": {},
   "outputs": [
    {
     "name": "stdout",
     "output_type": "stream",
     "text": [
      "Roadway Surface Vehicle 1\n",
      "Dry    286\n",
      "Wet     22\n",
      "Name: count, dtype: int64\n"
     ]
    }
   ],
   "source": [
    "\n",
    "CA_data['Roadway Surface Vehicle 1'].replace(['Slippery'], 'Wet', inplace=True)\n",
    "CA_data.drop(CA_data[(CA_data['Roadway Surface Vehicle 1'] == 'Other') | (CA_data['Roadway Surface Vehicle 1'] == 'Proceeding Straight')].index, inplace=True)\n",
    "\n",
    "print(CA_data['Roadway Surface Vehicle 1'].value_counts())\n"
   ]
  },
  {
   "cell_type": "markdown",
   "metadata": {},
   "source": [
    "### Movement Preceding Collusion vehicle 1\n",
    "\n",
    "#### grouping turns, high movements, parking, and dropping others"
   ]
  },
  {
   "cell_type": "code",
   "execution_count": 7,
   "metadata": {},
   "outputs": [
    {
     "name": "stdout",
     "output_type": "stream",
     "text": [
      "Movement Preceding Collision Vehicle 1\n",
      "Stopped                151\n",
      "Proceeding Straight     91\n",
      "Turning                 29\n",
      "Parking                 11\n",
      "Highway movement        10\n",
      "Backing                  8\n",
      "Parking Manuever         3\n",
      "Name: count, dtype: int64\n"
     ]
    }
   ],
   "source": [
    "CA_data['Movement Preceding Collision Vehicle 1'].replace(['Making Right Turn', 'Making Left Turn', 'Making U turn', 'Making Right Turn, Slowing/Stopping'], 'Turning', inplace=True)\n",
    "CA_data['Movement Preceding Collision Vehicle 1'].replace(['Changing Lanes', 'Entering Traffic', 'Entrering Traffic','Xing into opposing lane', 'Passing Other Vehicle'], 'Highway movement', inplace=True)\n",
    "CA_data['Movement Preceding Collision Vehicle 1'].replace(['Slowing/Stopping', 'Stopped in Traffic', 'Parked', 'Stopped, Merging'], 'Stopped', inplace=True)\n",
    "CA_data['Movement Preceding Collision Vehicle 1'].replace(['Parking Manuerver'], 'Parking', inplace=True)\n",
    "CA_data.drop(CA_data[(CA_data['Movement Preceding Collision Vehicle 1'] == 'Other')].index, inplace=True)\n",
    "\n",
    "print(CA_data['Movement Preceding Collision Vehicle 1'].value_counts())"
   ]
  },
  {
   "cell_type": "code",
   "execution_count": 8,
   "metadata": {},
   "outputs": [
    {
     "name": "stdout",
     "output_type": "stream",
     "text": [
      "['Weather Vehicle 1', 'Lighting Vehicle 1', 'Roadway Surface Vehicle 1', 'Movement Preceding Collision Vehicle 1', 'Vehicle 1 was Stopped in Traffic', 'Vehicle 1 was Moving', 'Number of Vehicles involved in Accident (w V1)']\n"
     ]
    }
   ],
   "source": [
    "print(columns)"
   ]
  },
  {
   "cell_type": "markdown",
   "metadata": {},
   "source": [
    "Fixing some off the mislabeled data"
   ]
  },
  {
   "cell_type": "code",
   "execution_count": 9,
   "metadata": {},
   "outputs": [
    {
     "name": "stdout",
     "output_type": "stream",
     "text": [
      "Vehicle 1 was Stopped in Traffic\n",
      "No     192\n",
      "Yes    165\n",
      "Name: count, dtype: int64\n",
      "Vehicle 1 was Moving\n",
      "Yes    183\n",
      "No     174\n",
      "Name: count, dtype: int64\n"
     ]
    }
   ],
   "source": [
    "\n",
    "# print(CA_data['Vehicle 1 was Stopped in Traffic'].value_counts())  \n",
    "# print(CA_data['Vehicle 1 was Moving'].value_counts())\n",
    "\n",
    "CA_data['Vehicle 1 was Stopped in Traffic'].replace(['/Off'], 'Yes', inplace=True)\n",
    "CA_data['Vehicle 1 was Moving'].replace(['/Off'], 'No', inplace=True)\n",
    "\n",
    "CA_data['Vehicle 1 was Stopped in Traffic'].replace(['yes'], 'Yes', inplace=True)\n",
    "CA_data['Vehicle 1 was Moving'].replace(['Moving'], 'Yes', inplace=True)\n",
    "\n",
    "print(CA_data['Vehicle 1 was Stopped in Traffic'].value_counts())  \n",
    "print(CA_data['Vehicle 1 was Moving'].value_counts())"
   ]
  },
  {
   "cell_type": "code",
   "execution_count": 10,
   "metadata": {},
   "outputs": [
    {
     "name": "stdout",
     "output_type": "stream",
     "text": [
      "Number of Vehicles involved in Accident (w V1)\n",
      "2.0    305\n",
      "1.0     43\n",
      "3.0      6\n",
      "Name: count, dtype: int64\n"
     ]
    }
   ],
   "source": [
    "print(CA_data['Number of Vehicles involved in Accident (w V1)'].value_counts())"
   ]
  },
  {
   "cell_type": "code",
   "execution_count": 11,
   "metadata": {},
   "outputs": [],
   "source": [
    "# one hot encode our new columns\n",
    "categorical_columns = ['Weather Vehicle 1', 'Lighting Vehicle 1', 'Roadway Surface Vehicle 1', \n",
    "                        'Movement Preceding Collision Vehicle 1']\n",
    "\n",
    "encoded_CA_data = pd.get_dummies(CA_data, columns=categorical_columns, prefix='encoded_')\n",
    "encoded_columns = encoded_CA_data.columns[encoded_CA_data.columns.str.startswith('encoded_')]\n",
    "\n"
   ]
  },
  {
   "cell_type": "markdown",
   "metadata": {},
   "source": [
    "Preprocess outputs"
   ]
  },
  {
   "cell_type": "code",
   "execution_count": 12,
   "metadata": {},
   "outputs": [
    {
     "name": "stdout",
     "output_type": "stream",
     "text": [
      "Vehicle Damage\n",
      "1    217\n",
      "3     53\n",
      "2     49\n",
      "0      8\n",
      "Name: count, dtype: int64\n",
      "Vehicle 1 was Stopped in Traffic\n",
      "0    175\n",
      "1    152\n",
      "Name: count, dtype: int64\n",
      "Vehicle 1 was Moving\n",
      "1    169\n",
      "0    158\n",
      "Name: count, dtype: int64\n"
     ]
    }
   ],
   "source": [
    "from sklearn.preprocessing import LabelEncoder\n",
    "\n",
    "encoded_CA_data.drop(encoded_CA_data[(encoded_CA_data['Vehicle Damage'] == 'Not Available')].index, inplace=True)\n",
    "\n",
    "\n",
    "\n",
    "label_encoder = LabelEncoder()\n",
    "encoded_CA_data['Vehicle Damage'] = label_encoder.fit_transform(encoded_CA_data['Vehicle Damage'])\n",
    "encoded_CA_data['Vehicle 1 was Stopped in Traffic'] = label_encoder.fit_transform(encoded_CA_data['Vehicle 1 was Stopped in Traffic'])\n",
    "\n",
    "encoded_CA_data['Vehicle 1 was Moving'] = label_encoder.fit_transform(encoded_CA_data['Vehicle 1 was Moving'])\n",
    "\n",
    "\n",
    "print(encoded_CA_data['Vehicle Damage'].value_counts())\n",
    "print(encoded_CA_data['Vehicle 1 was Stopped in Traffic'].value_counts())\n",
    "print(encoded_CA_data['Vehicle 1 was Moving'].value_counts())\n",
    "\n"
   ]
  },
  {
   "cell_type": "code",
   "execution_count": null,
   "metadata": {},
   "outputs": [],
   "source": []
  },
  {
   "cell_type": "code",
   "execution_count": 13,
   "metadata": {},
   "outputs": [],
   "source": [
    "# Split data into training and testing\n",
    "from sklearn.model_selection import train_test_split\n",
    "\n",
    "X = encoded_CA_data[encoded_columns]\n",
    "y = encoded_CA_data['Vehicle Damage']\n",
    "\n",
    "\n",
    "X_train, X_test, y_train, y_test = train_test_split(X, y, test_size=0.2, random_state=42)   \n",
    "\n"
   ]
  },
  {
   "cell_type": "code",
   "execution_count": 14,
   "metadata": {},
   "outputs": [
    {
     "data": {
      "text/plain": [
       "Vehicle Damage\n",
       "1    217\n",
       "3     53\n",
       "2     49\n",
       "0      8\n",
       "Name: count, dtype: int64"
      ]
     },
     "execution_count": 14,
     "metadata": {},
     "output_type": "execute_result"
    }
   ],
   "source": [
    "y.value_counts()"
   ]
  },
  {
   "cell_type": "markdown",
   "metadata": {},
   "source": [
    "### SVM"
   ]
  },
  {
   "cell_type": "code",
   "execution_count": 68,
   "metadata": {},
   "outputs": [
    {
     "name": "stdout",
     "output_type": "stream",
     "text": [
      "[0.65957447 0.63829787 0.74468085 0.82978723 0.80851064 0.76086957\n",
      " 0.67391304]\n",
      "0.730804810360777\n"
     ]
    }
   ],
   "source": [
    "from sklearn import svm\n",
    "from sklearn.model_selection import cross_val_score\n",
    "\n",
    "\n",
    "clf = svm.SVC(kernel='linear')\n",
    "scores = cross_val_score(clf, X, y, cv=7)\n",
    "\n",
    "print(scores)\n",
    "print(np.mean(scores))\n",
    "\n",
    "\n"
   ]
  },
  {
   "cell_type": "code",
   "execution_count": 95,
   "metadata": {},
   "outputs": [
    {
     "name": "stderr",
     "output_type": "stream",
     "text": [
      "/Users/tommychen/anaconda3/lib/python3.11/site-packages/sklearn/model_selection/_split.py:725: UserWarning: The least populated class in y has only 6 members, which is less than n_splits=7.\n",
      "  warnings.warn(\n"
     ]
    },
    {
     "data": {
      "text/plain": [
       "{'n_estimators': 25,\n",
       " 'min_samples_split': 7,\n",
       " 'min_samples_leaf': 8,\n",
       " 'max_depth': 32}"
      ]
     },
     "execution_count": 95,
     "metadata": {},
     "output_type": "execute_result"
    }
   ],
   "source": [
    "from sklearn.ensemble import RandomForestClassifier\n",
    "from sklearn.model_selection import RandomizedSearchCV\n",
    "\n",
    "parameters = {\n",
    "    'n_estimators': [25,50,75],\n",
    "    'max_depth': [16,24,32,64,128],\n",
    "    'min_samples_split': [7,9,10,11,13],\n",
    "    'min_samples_leaf': [4,6,8]\n",
    "\n",
    "}\n",
    "rf = RandomForestClassifier(random_state=42)\n",
    "\n",
    "clf = RandomizedSearchCV(rf, parameters, n_iter=10, cv=7, random_state=42)\n",
    "\n",
    "clf.fit(X_train, y_train)\n",
    "# {'n_estimators': 50, 'min_samples_split': 13, 'min_samples_leaf': 4, 'max_depth': 64}\n",
    "clf.best_params_\n",
    "\n"
   ]
  },
  {
   "cell_type": "code",
   "execution_count": 105,
   "metadata": {},
   "outputs": [
    {
     "name": "stdout",
     "output_type": "stream",
     "text": [
      "[0.65957447 0.63829787 0.74468085 0.80851064 0.80851064 0.76086957\n",
      " 0.67391304]\n",
      "0.7277652966829654\n"
     ]
    }
   ],
   "source": [
    "new_rf = RandomForestClassifier(n_estimators=25, min_samples_split=7, min_samples_leaf=8, max_depth=32, random_state=42)\n",
    "scores = cross_val_score(new_rf, X, y, cv=7)\n",
    "\n",
    "print(scores)\n",
    "print(np.mean(scores))"
   ]
  },
  {
   "cell_type": "code",
   "execution_count": 89,
   "metadata": {},
   "outputs": [
    {
     "data": {
      "text/plain": [
       "{'n_estimators': 25,\n",
       " 'min_child_weight': 5,\n",
       " 'max_depth': 64,\n",
       " 'learning_rate': 0.1}"
      ]
     },
     "execution_count": 89,
     "metadata": {},
     "output_type": "execute_result"
    }
   ],
   "source": [
    "from xgboost import XGBClassifier\n",
    "\n",
    "xgb = XGBClassifier(random_state=42)\n",
    "parameters = {\n",
    "    'n_estimators': [25,50,75],\n",
    "    'max_depth': [16,24,32,64,128],\n",
    "    'min_child_weight': [1,3,5,7],\n",
    "    'learning_rate': [0.1,0.01,0.001]\n",
    "}\n",
    "\n",
    "clf = RandomizedSearchCV(xgb, parameters, n_iter=10, cv=6, random_state=42)\n",
    "clf.fit(X_train,y_train)\n",
    "clf.best_params_\n"
   ]
  },
  {
   "cell_type": "code",
   "execution_count": 92,
   "metadata": {},
   "outputs": [
    {
     "name": "stdout",
     "output_type": "stream",
     "text": [
      "[0.65957447 0.63829787 0.74468085 0.80851064 0.78723404 0.76086957\n",
      " 0.67391304]\n",
      "0.724725783005154\n"
     ]
    }
   ],
   "source": [
    "# best_xgb \n",
    "best_xgb = XGBClassifier(n_estimators=25, min_child_weight=5, max_depth=64, learning_rate=0.1, random_state=42)\n",
    "scores = cross_val_score(best_xgb, X, y, cv=7)\n",
    "print(scores)\n",
    "print(np.mean(scores))\n"
   ]
  },
  {
   "cell_type": "markdown",
   "metadata": {},
   "source": [
    "### Neural network"
   ]
  },
  {
   "cell_type": "code",
   "execution_count": 59,
   "metadata": {},
   "outputs": [],
   "source": [
    "import torch\n",
    "import torch.nn as nn\n",
    "import torch.optim as optim\n",
    "import torch.nn.functional as F\n",
    "\n",
    "class FNN(nn.Module):\n",
    "    def __init__(self, input_channels, output_channels):\n",
    "\n",
    "        super(FNN, self).__init__()\n",
    "        self.fc1 = nn.Linear(input_channels, 25)\n",
    "        self.fc2 = nn.Linear(25, 4)\n",
    "        self.fc3 = nn.Linear(4, output_channels)\n",
    "        \n",
    "\n",
    "    def forward(self, x):\n",
    "        x = F.relu(self.fc1(x))\n",
    "        x = F.relu(self.fc2(x))\n",
    "        x = self.fc3(x)\n",
    "        return x"
   ]
  },
  {
   "cell_type": "code",
   "execution_count": 60,
   "metadata": {},
   "outputs": [
    {
     "data": {
      "text/plain": [
       "Vehicle Damage\n",
       "1    174\n",
       "3     41\n",
       "2     40\n",
       "0      6\n",
       "Name: count, dtype: int64"
      ]
     },
     "execution_count": 60,
     "metadata": {},
     "output_type": "execute_result"
    }
   ],
   "source": [
    "y_train.value_counts()"
   ]
  },
  {
   "cell_type": "code",
   "execution_count": 61,
   "metadata": {},
   "outputs": [],
   "source": [
    "X_train_np = X_train.values\n",
    "X_test_np = X_test.values\n",
    "y_train_np = y_train.values\n",
    "y_test_np = y_test.values\n",
    "\n",
    "\n",
    "X_train_tensor = torch.tensor(X_train_np, dtype=torch.float32)\n",
    "y_train_tensor = torch.tensor(y_train_np, dtype=torch.float32)\n",
    "X_test_tensor = torch.tensor(X_test_np, dtype=torch.float32)\n",
    "y_test_tensor = torch.tensor(y_test_np, dtype=torch.float32)\n"
   ]
  },
  {
   "cell_type": "code",
   "execution_count": 62,
   "metadata": {},
   "outputs": [
    {
     "name": "stdout",
     "output_type": "stream",
     "text": [
      "15 4\n",
      "2.3.0\n"
     ]
    }
   ],
   "source": [
    "# model\n",
    "model = FNN(X_train_tensor.shape[1], y.value_counts().shape[0])\n",
    "print(X_train_tensor.shape[1], y.value_counts().shape[0])\n",
    "device = 'mps'\n",
    "print(torch.__version__)\n",
    "model.to(device)   \n",
    "\n",
    "# hyper parameters\n",
    "criterion = nn.CrossEntropyLoss()\n",
    "optimizer = optim.Adam(model.parameters(), lr=0.001)\n",
    "epochs = 200\n"
   ]
  },
  {
   "cell_type": "code",
   "execution_count": 63,
   "metadata": {},
   "outputs": [
    {
     "name": "stdout",
     "output_type": "stream",
     "text": [
      "Epoch [1/200], Loss: 1.566071629524231\n",
      "Epoch [11/200], Loss: 1.5414338111877441\n",
      "Epoch [21/200], Loss: 1.5207993984222412\n",
      "Epoch [31/200], Loss: 1.5018703937530518\n",
      "Epoch [41/200], Loss: 1.4766266345977783\n",
      "Epoch [51/200], Loss: 1.4450372457504272\n",
      "Epoch [61/200], Loss: 1.4069111347198486\n",
      "Epoch [71/200], Loss: 1.3535767793655396\n",
      "Epoch [81/200], Loss: 1.2886368036270142\n",
      "Epoch [91/200], Loss: 1.2217596769332886\n",
      "Epoch [101/200], Loss: 1.1610654592514038\n",
      "Epoch [111/200], Loss: 1.1113449335098267\n",
      "Epoch [121/200], Loss: 1.0720146894454956\n",
      "Epoch [131/200], Loss: 1.0400640964508057\n",
      "Epoch [141/200], Loss: 1.013671636581421\n",
      "Epoch [151/200], Loss: 0.9911019802093506\n",
      "Epoch [161/200], Loss: 0.9715713858604431\n",
      "Epoch [171/200], Loss: 0.9544041752815247\n",
      "Epoch [181/200], Loss: 0.938666820526123\n",
      "Epoch [191/200], Loss: 0.9239813089370728\n"
     ]
    }
   ],
   "source": [
    "from sklearn.metrics import accuracy_score\n",
    "\n",
    "\n",
    "for epoch in range(epochs):\n",
    "    inputs, targets = X_train_tensor.to(device), y_train_tensor.to(device)\n",
    "    optimizer.zero_grad()  # Zero the gradients\n",
    "    outputs = model(inputs)  # Forward pass\n",
    "    loss = criterion(outputs, targets)  # Compute the loss\n",
    "    loss.backward()  # Backward pass (compute gradients)\n",
    "    optimizer.step()  # Update the weights\n",
    "\n",
    "    if epoch % 10 == 0:\n",
    "        print(f'Epoch [{epoch+1}/{epochs}], Loss: {loss.item()}')\n",
    "\n"
   ]
  },
  {
   "cell_type": "code",
   "execution_count": 93,
   "metadata": {},
   "outputs": [
    {
     "name": "stdout",
     "output_type": "stream",
     "text": [
      "Test Accuracy: 0.6515151515151515\n"
     ]
    }
   ],
   "source": [
    "# Evaluation on test data\n",
    "\n",
    "model.eval()\n",
    "with torch.no_grad():\n",
    "    inputs, targets = X_test_tensor.to(device), y_test_tensor.to(device)\n",
    "    outputs = model(inputs)\n",
    "    _, predicted = torch.max(outputs, 1)\n",
    "    accuracy = accuracy_score(predicted.cpu(), targets.cpu())\n",
    "    \n",
    "    print(f'Test Accuracy: {accuracy}')"
   ]
  }
 ],
 "metadata": {
  "kernelspec": {
   "display_name": "base",
   "language": "python",
   "name": "python3"
  },
  "language_info": {
   "codemirror_mode": {
    "name": "ipython",
    "version": 3
   },
   "file_extension": ".py",
   "mimetype": "text/x-python",
   "name": "python",
   "nbconvert_exporter": "python",
   "pygments_lexer": "ipython3",
   "version": "3.11.5"
  }
 },
 "nbformat": 4,
 "nbformat_minor": 2
}
